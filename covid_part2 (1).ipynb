{
 "cells": [
  {
   "cell_type": "code",
   "execution_count": 1,
   "id": "7742c77f",
   "metadata": {
    "deletable": false,
    "editable": false
   },
   "outputs": [],
   "source": [
    "# Initialize Otter\n",
    "import otter\n",
    "grader = otter.Notebook(\"covid_part2.ipynb\")"
   ]
  },
  {
   "cell_type": "markdown",
   "id": "02b82b09",
   "metadata": {},
   "source": [
    "# Final Project: COVID-19 Dataset\n",
    "## Exploring COVID-19 Data through Modeling\n",
    "## Due Date: Thursday, December 13th, 11:59 PM\n",
    "## Collaboration Policy\n",
    "\n",
    "Data science is a collaborative activity. While you may talk with other groups about\n",
    "the project, we ask that you **write your solutions individually**. If you do\n",
    "discuss the assignments with others outside of your group please **include their names** at the top\n",
    "of your notebook."
   ]
  },
  {
   "cell_type": "markdown",
   "id": "cb908b16",
   "metadata": {},
   "source": [
    "\n",
    "## This Assignment\n",
    "\n",
    "In this final project, we will investigate COVID-19 data over the past year. This data contains information about COVID-19 case counts, mortalities, vaccination rates, and various other metadata that can assist in modeling various aspects of COVID-19.\n",
    "\n",
    "Through this final project, you will demonstrate your experience with:\n",
    "* Data cleaning and EDA using Pandas\n",
    "* Unsupervised and supervised learning techniques\n",
    "* Visualization\n"
   ]
  },
  {
   "cell_type": "markdown",
   "id": "2a2811cb",
   "metadata": {},
   "source": [
    "## Goal\n",
    "\n",
    "Model and analyze the temporal evolution of COVID-19 mortalities or cases using one unsupervised and one supervised technique of your choice. Interpret your models' results through visualizations, and draw insightful conclusions about the modeling of COVID-19 data.\n",
    "\n",
    "Recall that we studied linear and logistic regression, decision trees, random forests as part of supervised learning (with labels) and clustering, PCA as part of unsupervised learning (without labels). You are free to use any methods that you find suitable to answer the problem at hand."
   ]
  },
  {
   "cell_type": "code",
   "execution_count": 2,
   "id": "f131fbd2-4102-47ae-a323-d974e433a268",
   "metadata": {},
   "outputs": [
    {
     "name": "stdout",
     "output_type": "stream",
     "text": [
      "Requirement already satisfied: geopy in /srv/conda/envs/notebook/lib/python3.9/site-packages (2.2.0)\n",
      "Requirement already satisfied: geographiclib<2,>=1.49 in /srv/conda/envs/notebook/lib/python3.9/site-packages (from geopy) (1.52)\n",
      "Note: you may need to restart the kernel to use updated packages.\n"
     ]
    }
   ],
   "source": [
    "pip install geopy"
   ]
  },
  {
   "cell_type": "code",
   "execution_count": 3,
   "id": "9c01af05",
   "metadata": {},
   "outputs": [],
   "source": [
    "# Run this cell to set up your notebook\n",
    "import numpy as np\n",
    "from geopy import *\n",
    "import pandas as pd\n",
    "from sklearn.linear_model import LinearRegression\n",
    "from sklearn.model_selection import train_test_split\n",
    "from sklearn.cluster import *\n",
    "import matplotlib.pyplot as plt\n",
    "import seaborn as sns\n",
    "\n",
    "import warnings\n",
    "warnings.filterwarnings(\"ignore\")\n",
    "\n",
    "import plotly.graph_objects as go\n",
    "import plotly.express as px\n",
    "from plotly.subplots import make_subplots\n",
    "from scipy.stats import pearsonr\n",
    "import re\n",
    "\n",
    "cases = pd.read_csv('data/time_series_covid19_confirmed_US.csv') # https://github.com/CSSEGISandData/COVID-19/blob/master/csse_covid_19_data/csse_covid_19_time_series/time_series_covid19_confirmed_US.csv\n",
    "vaccinations = pd.read_csv('data/people_vaccinated_us_timeline.csv') # https://raw.githubusercontent.com/govex/COVID-19/master/data_tables/vaccine_data/us_data/time_series/people_vaccinated_us_timeline.csv\n",
    "counties = pd.read_csv('data/co-est2020.csv', encoding='latin-1') # https://www2.census.gov/programs-surveys/popest/datasets/2010-2020/counties/totals/co-est2020.csv\n",
    "mask_use = pd.read_csv('data/mask-use-by-county.csv') # https://github.com/nytimes/covid-19-data/blob/master/mask-use/mask-use-by-county.csv"
   ]
  },
  {
   "cell_type": "markdown",
   "id": "1f4b18d3",
   "metadata": {},
   "source": [
    "<br/><br/><br/>\n",
    "\n",
    "---\n",
    "\n",
    "<br/><br/><br/>\n",
    "\n",
    "## Data Cleaning (Again!)\n",
    "\n",
    "For this section, please copy over the appropriate answers from your previous notebook submission."
   ]
  },
  {
   "cell_type": "markdown",
   "id": "f4e6efb9",
   "metadata": {
    "deletable": false,
    "editable": false
   },
   "source": [
    "### Part 1: Question 1a\n",
    "\n",
    "Impute the null values in *all* the datasets with zero values or empty strings where appropriate.\n",
    "\n",
    "<!--\n",
    "BEGIN QUESTION\n",
    "name: q1a\n",
    "points: 0\n",
    "-->"
   ]
  },
  {
   "cell_type": "code",
   "execution_count": 4,
   "id": "dd43134a",
   "metadata": {},
   "outputs": [],
   "source": [
    "def autofill(df):\n",
    "    for col in df:\n",
    "        if df[col].dtype == 'string':\n",
    "            df[col] = df[col].fillna(\"\")\n",
    "        else: \n",
    "            df[col] = df[col].fillna(0)\n",
    "            \n",
    "autofill(cases)\n",
    "autofill(vaccinations)\n",
    "autofill(mask_use)\n",
    "autofill(counties)"
   ]
  },
  {
   "cell_type": "code",
   "execution_count": 5,
   "id": "f42e23fb",
   "metadata": {
    "deletable": false,
    "editable": false
   },
   "outputs": [
    {
     "data": {
      "text/html": [
       "<p><strong><pre style='display: inline;'>q1a</pre></strong> passed!</p>"
      ],
      "text/plain": [
       "q1a results: All test cases passed!"
      ]
     },
     "execution_count": 5,
     "metadata": {},
     "output_type": "execute_result"
    }
   ],
   "source": [
    "grader.check(\"q1a\")"
   ]
  },
  {
   "cell_type": "markdown",
   "id": "32fdc73c",
   "metadata": {
    "deletable": false,
    "editable": false
   },
   "source": [
    "### Part 1: Question 1d\n",
    "\n",
    "Generate a valid FIPS code for the `counties` table.\n",
    "\n",
    "*Hint*: Refer to [this](https://transition.fcc.gov/oet/info/maps/census/fips/fips.txt) guide on FIPS codes.\n",
    "\n",
    "<!--\n",
    "BEGIN QUESTION\n",
    "name: q1d\n",
    "points: 0\n",
    "-->"
   ]
  },
  {
   "cell_type": "code",
   "execution_count": 6,
   "id": "8869affb",
   "metadata": {},
   "outputs": [],
   "source": [
    "counties['FIPS'] = counties['STATE'] * 1000 + counties['COUNTY']"
   ]
  },
  {
   "cell_type": "code",
   "execution_count": 7,
   "id": "f936214a",
   "metadata": {
    "deletable": false,
    "editable": false
   },
   "outputs": [
    {
     "data": {
      "text/html": [
       "<p><strong><pre style='display: inline;'>q1d</pre></strong> passed!</p>"
      ],
      "text/plain": [
       "q1d results: All test cases passed!"
      ]
     },
     "execution_count": 7,
     "metadata": {},
     "output_type": "execute_result"
    }
   ],
   "source": [
    "grader.check(\"q1d\")"
   ]
  },
  {
   "cell_type": "markdown",
   "id": "5851d0b6",
   "metadata": {
    "deletable": false,
    "editable": false
   },
   "source": [
    "### Part 1: Question 1e\n",
    "\n",
    "Merge the `counties`, `cases`, and `mask_use` tables on an appropriate primary key to generate county-wise data.\n",
    "\n",
    "<!--\n",
    "BEGIN QUESTION\n",
    "name: q1e\n",
    "points: 0\n",
    "-->"
   ]
  },
  {
   "cell_type": "code",
   "execution_count": 8,
   "id": "3730e8a2",
   "metadata": {},
   "outputs": [
    {
     "data": {
      "text/html": [
       "<div>\n",
       "<style scoped>\n",
       "    .dataframe tbody tr th:only-of-type {\n",
       "        vertical-align: middle;\n",
       "    }\n",
       "\n",
       "    .dataframe tbody tr th {\n",
       "        vertical-align: top;\n",
       "    }\n",
       "\n",
       "    .dataframe thead th {\n",
       "        text-align: right;\n",
       "    }\n",
       "</style>\n",
       "<table border=\"1\" class=\"dataframe\">\n",
       "  <thead>\n",
       "    <tr style=\"text-align: right;\">\n",
       "      <th></th>\n",
       "      <th>SUMLEV</th>\n",
       "      <th>REGION</th>\n",
       "      <th>DIVISION</th>\n",
       "      <th>STATE</th>\n",
       "      <th>COUNTY</th>\n",
       "      <th>STNAME</th>\n",
       "      <th>CTYNAME</th>\n",
       "      <th>CENSUS2010POP</th>\n",
       "      <th>ESTIMATESBASE2010</th>\n",
       "      <th>POPESTIMATE2010</th>\n",
       "      <th>...</th>\n",
       "      <th>9/9/21</th>\n",
       "      <th>9/10/21</th>\n",
       "      <th>9/11/21</th>\n",
       "      <th>9/12/21</th>\n",
       "      <th>COUNTYFP</th>\n",
       "      <th>NEVER</th>\n",
       "      <th>RARELY</th>\n",
       "      <th>SOMETIMES</th>\n",
       "      <th>FREQUENTLY</th>\n",
       "      <th>ALWAYS</th>\n",
       "    </tr>\n",
       "  </thead>\n",
       "  <tbody>\n",
       "    <tr>\n",
       "      <th>0</th>\n",
       "      <td>50</td>\n",
       "      <td>3</td>\n",
       "      <td>6</td>\n",
       "      <td>1</td>\n",
       "      <td>1</td>\n",
       "      <td>Alabama</td>\n",
       "      <td>Autauga County</td>\n",
       "      <td>54571</td>\n",
       "      <td>54582</td>\n",
       "      <td>54761</td>\n",
       "      <td>...</td>\n",
       "      <td>9145</td>\n",
       "      <td>9207</td>\n",
       "      <td>9246</td>\n",
       "      <td>9287</td>\n",
       "      <td>1001</td>\n",
       "      <td>0.053</td>\n",
       "      <td>0.074</td>\n",
       "      <td>0.134</td>\n",
       "      <td>0.295</td>\n",
       "      <td>0.444</td>\n",
       "    </tr>\n",
       "    <tr>\n",
       "      <th>1</th>\n",
       "      <td>50</td>\n",
       "      <td>3</td>\n",
       "      <td>6</td>\n",
       "      <td>1</td>\n",
       "      <td>3</td>\n",
       "      <td>Alabama</td>\n",
       "      <td>Baldwin County</td>\n",
       "      <td>182265</td>\n",
       "      <td>182263</td>\n",
       "      <td>183121</td>\n",
       "      <td>...</td>\n",
       "      <td>34536</td>\n",
       "      <td>34726</td>\n",
       "      <td>34872</td>\n",
       "      <td>34950</td>\n",
       "      <td>1003</td>\n",
       "      <td>0.083</td>\n",
       "      <td>0.059</td>\n",
       "      <td>0.098</td>\n",
       "      <td>0.323</td>\n",
       "      <td>0.436</td>\n",
       "    </tr>\n",
       "    <tr>\n",
       "      <th>2</th>\n",
       "      <td>50</td>\n",
       "      <td>3</td>\n",
       "      <td>6</td>\n",
       "      <td>1</td>\n",
       "      <td>5</td>\n",
       "      <td>Alabama</td>\n",
       "      <td>Barbour County</td>\n",
       "      <td>27457</td>\n",
       "      <td>27454</td>\n",
       "      <td>27325</td>\n",
       "      <td>...</td>\n",
       "      <td>3243</td>\n",
       "      <td>3260</td>\n",
       "      <td>3282</td>\n",
       "      <td>3295</td>\n",
       "      <td>1005</td>\n",
       "      <td>0.067</td>\n",
       "      <td>0.121</td>\n",
       "      <td>0.120</td>\n",
       "      <td>0.201</td>\n",
       "      <td>0.491</td>\n",
       "    </tr>\n",
       "    <tr>\n",
       "      <th>3</th>\n",
       "      <td>50</td>\n",
       "      <td>3</td>\n",
       "      <td>6</td>\n",
       "      <td>1</td>\n",
       "      <td>7</td>\n",
       "      <td>Alabama</td>\n",
       "      <td>Bibb County</td>\n",
       "      <td>22915</td>\n",
       "      <td>22904</td>\n",
       "      <td>22858</td>\n",
       "      <td>...</td>\n",
       "      <td>3727</td>\n",
       "      <td>3752</td>\n",
       "      <td>3778</td>\n",
       "      <td>3795</td>\n",
       "      <td>1007</td>\n",
       "      <td>0.020</td>\n",
       "      <td>0.034</td>\n",
       "      <td>0.096</td>\n",
       "      <td>0.278</td>\n",
       "      <td>0.572</td>\n",
       "    </tr>\n",
       "    <tr>\n",
       "      <th>4</th>\n",
       "      <td>50</td>\n",
       "      <td>3</td>\n",
       "      <td>6</td>\n",
       "      <td>1</td>\n",
       "      <td>9</td>\n",
       "      <td>Alabama</td>\n",
       "      <td>Blount County</td>\n",
       "      <td>57322</td>\n",
       "      <td>57322</td>\n",
       "      <td>57372</td>\n",
       "      <td>...</td>\n",
       "      <td>9048</td>\n",
       "      <td>9095</td>\n",
       "      <td>9161</td>\n",
       "      <td>9176</td>\n",
       "      <td>1009</td>\n",
       "      <td>0.053</td>\n",
       "      <td>0.114</td>\n",
       "      <td>0.180</td>\n",
       "      <td>0.194</td>\n",
       "      <td>0.459</td>\n",
       "    </tr>\n",
       "    <tr>\n",
       "      <th>...</th>\n",
       "      <td>...</td>\n",
       "      <td>...</td>\n",
       "      <td>...</td>\n",
       "      <td>...</td>\n",
       "      <td>...</td>\n",
       "      <td>...</td>\n",
       "      <td>...</td>\n",
       "      <td>...</td>\n",
       "      <td>...</td>\n",
       "      <td>...</td>\n",
       "      <td>...</td>\n",
       "      <td>...</td>\n",
       "      <td>...</td>\n",
       "      <td>...</td>\n",
       "      <td>...</td>\n",
       "      <td>...</td>\n",
       "      <td>...</td>\n",
       "      <td>...</td>\n",
       "      <td>...</td>\n",
       "      <td>...</td>\n",
       "      <td>...</td>\n",
       "    </tr>\n",
       "    <tr>\n",
       "      <th>3136</th>\n",
       "      <td>50</td>\n",
       "      <td>4</td>\n",
       "      <td>8</td>\n",
       "      <td>56</td>\n",
       "      <td>37</td>\n",
       "      <td>Wyoming</td>\n",
       "      <td>Sweetwater County</td>\n",
       "      <td>43806</td>\n",
       "      <td>43806</td>\n",
       "      <td>43580</td>\n",
       "      <td>...</td>\n",
       "      <td>6034</td>\n",
       "      <td>6111</td>\n",
       "      <td>6111</td>\n",
       "      <td>6111</td>\n",
       "      <td>56037</td>\n",
       "      <td>0.061</td>\n",
       "      <td>0.295</td>\n",
       "      <td>0.230</td>\n",
       "      <td>0.146</td>\n",
       "      <td>0.268</td>\n",
       "    </tr>\n",
       "    <tr>\n",
       "      <th>3137</th>\n",
       "      <td>50</td>\n",
       "      <td>4</td>\n",
       "      <td>8</td>\n",
       "      <td>56</td>\n",
       "      <td>39</td>\n",
       "      <td>Wyoming</td>\n",
       "      <td>Teton County</td>\n",
       "      <td>21294</td>\n",
       "      <td>21298</td>\n",
       "      <td>21298</td>\n",
       "      <td>...</td>\n",
       "      <td>4587</td>\n",
       "      <td>4611</td>\n",
       "      <td>4611</td>\n",
       "      <td>4611</td>\n",
       "      <td>56039</td>\n",
       "      <td>0.095</td>\n",
       "      <td>0.157</td>\n",
       "      <td>0.160</td>\n",
       "      <td>0.247</td>\n",
       "      <td>0.340</td>\n",
       "    </tr>\n",
       "    <tr>\n",
       "      <th>3138</th>\n",
       "      <td>50</td>\n",
       "      <td>4</td>\n",
       "      <td>8</td>\n",
       "      <td>56</td>\n",
       "      <td>41</td>\n",
       "      <td>Wyoming</td>\n",
       "      <td>Uinta County</td>\n",
       "      <td>21118</td>\n",
       "      <td>21121</td>\n",
       "      <td>21090</td>\n",
       "      <td>...</td>\n",
       "      <td>3168</td>\n",
       "      <td>3204</td>\n",
       "      <td>3204</td>\n",
       "      <td>3204</td>\n",
       "      <td>56041</td>\n",
       "      <td>0.098</td>\n",
       "      <td>0.278</td>\n",
       "      <td>0.154</td>\n",
       "      <td>0.207</td>\n",
       "      <td>0.264</td>\n",
       "    </tr>\n",
       "    <tr>\n",
       "      <th>3139</th>\n",
       "      <td>50</td>\n",
       "      <td>4</td>\n",
       "      <td>8</td>\n",
       "      <td>56</td>\n",
       "      <td>43</td>\n",
       "      <td>Wyoming</td>\n",
       "      <td>Washakie County</td>\n",
       "      <td>8533</td>\n",
       "      <td>8528</td>\n",
       "      <td>8531</td>\n",
       "      <td>...</td>\n",
       "      <td>1111</td>\n",
       "      <td>1120</td>\n",
       "      <td>1120</td>\n",
       "      <td>1120</td>\n",
       "      <td>56043</td>\n",
       "      <td>0.204</td>\n",
       "      <td>0.155</td>\n",
       "      <td>0.069</td>\n",
       "      <td>0.285</td>\n",
       "      <td>0.287</td>\n",
       "    </tr>\n",
       "    <tr>\n",
       "      <th>3140</th>\n",
       "      <td>50</td>\n",
       "      <td>4</td>\n",
       "      <td>8</td>\n",
       "      <td>56</td>\n",
       "      <td>45</td>\n",
       "      <td>Wyoming</td>\n",
       "      <td>Weston County</td>\n",
       "      <td>7208</td>\n",
       "      <td>7208</td>\n",
       "      <td>7198</td>\n",
       "      <td>...</td>\n",
       "      <td>824</td>\n",
       "      <td>829</td>\n",
       "      <td>829</td>\n",
       "      <td>829</td>\n",
       "      <td>56045</td>\n",
       "      <td>0.142</td>\n",
       "      <td>0.129</td>\n",
       "      <td>0.148</td>\n",
       "      <td>0.207</td>\n",
       "      <td>0.374</td>\n",
       "    </tr>\n",
       "  </tbody>\n",
       "</table>\n",
       "<p>3141 rows × 638 columns</p>\n",
       "</div>"
      ],
      "text/plain": [
       "      SUMLEV  REGION  DIVISION  STATE  COUNTY   STNAME            CTYNAME  \\\n",
       "0         50       3         6      1       1  Alabama     Autauga County   \n",
       "1         50       3         6      1       3  Alabama     Baldwin County   \n",
       "2         50       3         6      1       5  Alabama     Barbour County   \n",
       "3         50       3         6      1       7  Alabama        Bibb County   \n",
       "4         50       3         6      1       9  Alabama      Blount County   \n",
       "...      ...     ...       ...    ...     ...      ...                ...   \n",
       "3136      50       4         8     56      37  Wyoming  Sweetwater County   \n",
       "3137      50       4         8     56      39  Wyoming       Teton County   \n",
       "3138      50       4         8     56      41  Wyoming       Uinta County   \n",
       "3139      50       4         8     56      43  Wyoming    Washakie County   \n",
       "3140      50       4         8     56      45  Wyoming      Weston County   \n",
       "\n",
       "     CENSUS2010POP  ESTIMATESBASE2010  POPESTIMATE2010  ...  9/9/21  9/10/21  \\\n",
       "0            54571              54582            54761  ...    9145     9207   \n",
       "1           182265             182263           183121  ...   34536    34726   \n",
       "2            27457              27454            27325  ...    3243     3260   \n",
       "3            22915              22904            22858  ...    3727     3752   \n",
       "4            57322              57322            57372  ...    9048     9095   \n",
       "...            ...                ...              ...  ...     ...      ...   \n",
       "3136         43806              43806            43580  ...    6034     6111   \n",
       "3137         21294              21298            21298  ...    4587     4611   \n",
       "3138         21118              21121            21090  ...    3168     3204   \n",
       "3139          8533               8528             8531  ...    1111     1120   \n",
       "3140          7208               7208             7198  ...     824      829   \n",
       "\n",
       "      9/11/21  9/12/21  COUNTYFP  NEVER  RARELY  SOMETIMES  FREQUENTLY  ALWAYS  \n",
       "0        9246     9287      1001  0.053   0.074      0.134       0.295   0.444  \n",
       "1       34872    34950      1003  0.083   0.059      0.098       0.323   0.436  \n",
       "2        3282     3295      1005  0.067   0.121      0.120       0.201   0.491  \n",
       "3        3778     3795      1007  0.020   0.034      0.096       0.278   0.572  \n",
       "4        9161     9176      1009  0.053   0.114      0.180       0.194   0.459  \n",
       "...       ...      ...       ...    ...     ...        ...         ...     ...  \n",
       "3136     6111     6111     56037  0.061   0.295      0.230       0.146   0.268  \n",
       "3137     4611     4611     56039  0.095   0.157      0.160       0.247   0.340  \n",
       "3138     3204     3204     56041  0.098   0.278      0.154       0.207   0.264  \n",
       "3139     1120     1120     56043  0.204   0.155      0.069       0.285   0.287  \n",
       "3140      829      829     56045  0.142   0.129      0.148       0.207   0.374  \n",
       "\n",
       "[3141 rows x 638 columns]"
      ]
     },
     "execution_count": 8,
     "metadata": {},
     "output_type": "execute_result"
    }
   ],
   "source": [
    "county_data = counties.merge(cases, on='FIPS').merge(mask_use, left_on= 'FIPS', right_on = 'COUNTYFP')\n",
    "county_data"
   ]
  },
  {
   "cell_type": "code",
   "execution_count": 9,
   "id": "7a0a0793",
   "metadata": {
    "deletable": false,
    "editable": false
   },
   "outputs": [
    {
     "data": {
      "text/html": [
       "<p><strong><pre style='display: inline;'>q1e</pre></strong> passed!</p>"
      ],
      "text/plain": [
       "q1e results: All test cases passed!"
      ]
     },
     "execution_count": 9,
     "metadata": {},
     "output_type": "execute_result"
    }
   ],
   "source": [
    "grader.check(\"q1e\")"
   ]
  },
  {
   "cell_type": "markdown",
   "id": "b7bb5b84",
   "metadata": {
    "tags": []
   },
   "source": [
    "<br/><br/><br/>\n",
    "\n",
    "---\n",
    "\n",
    "<br/><br/><br/>\n",
    "\n",
    "## Question 5: Guided Supervised Modeling\n",
    "\n",
    "This section will guide you through creating a supervised learning framework that will predict the number of COVID-19 cases per capita given various COVID-19 safety protocols that have been implemented. Then, we will investigate the bias, variance, and observational noise of this framework.\n",
    "\n",
    "Note that any answer responses without the appropriate work (i.e. code or math) will be subject to additional review and will not receive any credit."
   ]
  },
  {
   "cell_type": "markdown",
   "id": "a94355a0",
   "metadata": {
    "deletable": false,
    "editable": false
   },
   "source": [
    "<!-- BEGIN QUESTION -->\n",
    "\n",
    "### Question 5a\n",
    "\n",
    "We will use county-wise mask usage data to predict the number of COVID-19 cases on September 12th, 2021. Create a visualization that shows the pairwise correlation between each combination of column in the mask usage data and the number of COVID-19 cases.\n",
    "\n",
    "*Hint*: You should be plotting 36 correlations.\n",
    "<!--\n",
    "BEGIN QUESTION\n",
    "name: q5a\n",
    "points: 3\n",
    "manual: True\n",
    "-->"
   ]
  },
  {
   "cell_type": "code",
   "execution_count": 10,
   "id": "98cbca46",
   "metadata": {},
   "outputs": [],
   "source": [
    "#data_5a = county_data.copy()\n",
    "#data_5a['Total Cases'] = np.sum(cases.iloc[:, 11:], axis=1)\n",
    "#sns.heatmap(data_5a[['NEVER', 'RARELY', 'SOMETIMES', 'FREQUENTLY', 'ALWAYS', 'Total Cases']].corr())\n",
    "#plt.title('COVID-19 Cases on 9/12/21 vs. Frequency \\nof Mask Usage, Correlation')"
   ]
  },
  {
   "cell_type": "code",
   "execution_count": 11,
   "id": "b5238d63-23b3-4414-89f5-9ecaa9ee07a2",
   "metadata": {},
   "outputs": [
    {
     "data": {
      "text/plain": [
       "Text(0.5, 1.0, 'COVID-19 Cases on 9/12/21 vs. Frequency \\nof Mask Usage, Correlation')"
      ]
     },
     "execution_count": 11,
     "metadata": {},
     "output_type": "execute_result"
    },
    {
     "data": {
      "image/png": "[encoded data removed]",
      "text/plain": [
       "<Figure size 640x480 with 2 Axes>"
      ]
     },
     "metadata": {},
     "output_type": "display_data"
    }
   ],
   "source": [
    "sns.heatmap(county_data[['9/12/21', 'NEVER', 'RARELY', 'SOMETIMES', 'FREQUENTLY', 'ALWAYS']].corr())\n",
    "plt.title('COVID-19 Cases on 9/12/21 vs. Frequency \\nof Mask Usage, Correlation')"
   ]
  },
  {
   "cell_type": "markdown",
   "id": "d8860eb5",
   "metadata": {
    "deletable": false,
    "editable": false
   },
   "source": [
    "<!-- END QUESTION -->\n",
    "\n",
    "### Question 5b\n",
    "\n",
    "Train a linear regression model to predict the number of COVID-19 cases using county-wise mask usage data for September 12, 2021. Evaluate your model's RMSE on a held-out validation set with 33% of the county-wise data. When possible, make sure to set `random_state = 42` when splitting your data into training and test sets.\n",
    "<!--\n",
    "BEGIN QUESTION\n",
    "name: q5b\n",
    "points: 5\n",
    "-->"
   ]
  },
  {
   "cell_type": "code",
   "execution_count": 12,
   "id": "c917813e",
   "metadata": {},
   "outputs": [
    {
     "data": {
      "text/plain": [
       "(27834.430707426982, 62591.13087482177)"
      ]
     },
     "execution_count": 12,
     "metadata": {},
     "output_type": "execute_result"
    }
   ],
   "source": [
    "X_q5b = train_test_split(county_data[['NEVER', 'RARELY', 'SOMETIMES', 'FREQUENTLY', 'ALWAYS']], test_size = 0.33, random_state = 42)\n",
    "y_q5b = train_test_split(county_data[['9/12/21']], test_size = 0.33, random_state = 42)\n",
    "\n",
    "# Make sure to set random_state = 42 and test_size = 0.33!\n",
    "X_q5b_train, X_q5b_test, y_q5b_train, y_q5b_test = X_q5b[0], X_q5b[1], y_q5b[0], y_q5b[1]\n",
    "\n",
    "def rmse(predictions, targets):\n",
    "    return np.sqrt(((predictions - targets) ** 2).mean())\n",
    "\n",
    "model_5b = LinearRegression()\n",
    "model_5b.fit(X_q5b_train, y_q5b_train)\n",
    "train_5bpredictions = model_5b.predict(X_q5b_train)\n",
    "test_5bpredictions = model_5b.predict(X_q5b_test)\n",
    "\n",
    "train_rmse_cases = rmse(train_5bpredictions, y_q5b_train)[0]\n",
    "test_rmse_cases = rmse(test_5bpredictions, y_q5b_test)[0]\n",
    "\n",
    "train_rmse_cases, test_rmse_cases"
   ]
  },
  {
   "cell_type": "code",
   "execution_count": 13,
   "id": "6d3bcbd5",
   "metadata": {
    "deletable": false,
    "editable": false
   },
   "outputs": [
    {
     "data": {
      "text/html": [
       "<p><strong><pre style='display: inline;'>q5b</pre></strong> passed!</p>"
      ],
      "text/plain": [
       "q5b results: All test cases passed!"
      ]
     },
     "execution_count": 13,
     "metadata": {},
     "output_type": "execute_result"
    }
   ],
   "source": [
    "grader.check(\"q5b\")"
   ]
  },
  {
   "cell_type": "markdown",
   "id": "a07da3a5",
   "metadata": {
    "deletable": false,
    "editable": false
   },
   "source": [
    "<!-- BEGIN QUESTION -->\n",
    "\n",
    "### Question 5c\n",
    "\n",
    "Explain potential reasons the test set RMSE is much higher as compared to the training set RMSE.\n",
    "<!--\n",
    "BEGIN QUESTION\n",
    "name: q5c\n",
    "points: 3\n",
    "manual: True\n",
    "-->"
   ]
  },
  {
   "cell_type": "markdown",
   "id": "4fd63a7d",
   "metadata": {},
   "source": [
    "_The cases are very large values, while the mask_use values between counties is on a much smaller scale, and some counties may vary little. For a simple linear regression model, this can lead to overfitting where a small change in mask_use values leads to a very large change in the prediction of cases. This is likely why the test set RMSE is much higher as the model is assigning large differences in cases based on small differences in mask_use._"
   ]
  },
  {
   "cell_type": "markdown",
   "id": "5bbbb97c",
   "metadata": {
    "deletable": false,
    "editable": false
   },
   "source": [
    "<!-- END QUESTION -->\n",
    "\n",
    "### Question 5d\n",
    "\n",
    "Instead of predicting the number of COVID-19 cases, redo part (b) by predicting the number of cases per capita. Report the model's RMSE on the training and validation set.\n",
    "\n",
    "Comment on the relationship between the training and test RMSE by predicting the number of cases per capita instead of the total number of cases.\n",
    "<!--\n",
    "BEGIN QUESTION\n",
    "name: q5d\n",
    "points: 3\n",
    "-->"
   ]
  },
  {
   "cell_type": "code",
   "execution_count": 14,
   "id": "85dfd858",
   "metadata": {},
   "outputs": [
    {
     "data": {
      "text/plain": [
       "(0.03540985737823185, 0.03816790349891603)"
      ]
     },
     "execution_count": 14,
     "metadata": {},
     "output_type": "execute_result"
    }
   ],
   "source": [
    "X_q5d = train_test_split(county_data[['NEVER', 'RARELY', 'SOMETIMES', 'FREQUENTLY', 'ALWAYS']], test_size = 0.33, random_state = 42)\n",
    "y_q5d = train_test_split(county_data[['9/12/21']].divide(county_data['POPESTIMATE2020'], axis=0), test_size = 0.33, random_state = 42)\n",
    "\n",
    "# Make sure to set random_state = 42 and test_size = 0.33!\n",
    "X_q5d_train, X_q5d_test, y_q5d_train, y_q5d_test = X_q5d[0], X_q5d[1], y_q5d[0], y_q5d[1]\n",
    "\n",
    "model_5d = LinearRegression()\n",
    "model_5d.fit(X_q5d_train, y_q5d_train)\n",
    "train_5dpredictions = model_5d.predict(X_q5d_train)\n",
    "test_5dpredictions = model_5d.predict(X_q5d_test)\n",
    "\n",
    "train_rmse_cpc = rmse(train_5dpredictions, y_q5d_train)[0]\n",
    "test_rmse_cpc = rmse(test_5dpredictions, y_q5d_test)[0]\n",
    "\n",
    "train_rmse_cpc, test_rmse_cpc"
   ]
  },
  {
   "cell_type": "code",
   "execution_count": 15,
   "id": "bdbcb703",
   "metadata": {
    "deletable": false,
    "editable": false
   },
   "outputs": [
    {
     "data": {
      "text/html": [
       "<p><strong><pre style='display: inline;'>q5d</pre></strong> passed!</p>"
      ],
      "text/plain": [
       "q5d results: All test cases passed!"
      ]
     },
     "execution_count": 15,
     "metadata": {},
     "output_type": "execute_result"
    }
   ],
   "source": [
    "grader.check(\"q5d\")"
   ]
  },
  {
   "cell_type": "markdown",
   "id": "5c2215f3",
   "metadata": {
    "deletable": false,
    "editable": false
   },
   "source": [
    "<!-- BEGIN QUESTION -->\n",
    "\n",
    "### Question 5e\n",
    "\n",
    "Visualize the model outputs from part (d) by plotting the predictions $\\hat{y}$ versus the observations $y$. Comment on what the plot indicates about our linear model as a comment in the code cell.\n",
    "\n",
    "<!--\n",
    "BEGIN QUESTION\n",
    "name: q5e\n",
    "points: 3\n",
    "manual: True\n",
    "-->"
   ]
  },
  {
   "cell_type": "code",
   "execution_count": 16,
   "id": "e7eefdc1-c9fa-4130-8df8-d00eaab2f960",
   "metadata": {},
   "outputs": [],
   "source": [
    "data = pd.DataFrame(index = (np.arange(len(y_q5d_test.values))))\n",
    "data['x'] = test_5dpredictions\n",
    "data['y'] = y_q5d_test.values"
   ]
  },
  {
   "cell_type": "code",
   "execution_count": 17,
   "id": "e5c490b3-6d68-42b8-a8b0-fd06893c0f16",
   "metadata": {},
   "outputs": [
    {
     "data": {
      "image/png": "[encoded data removed]",
      "text/plain": [
       "<Figure size 2000x1000 with 1 Axes>"
      ]
     },
     "metadata": {},
     "output_type": "display_data"
    }
   ],
   "source": [
    "plt.figure(figsize = (20, 10))\n",
    "plt.scatter(data = data, x = 'y', y = 'x')\n",
    "plt.ylabel(\"y\")\n",
    "plt.xlabel(\"$\\hat{y}$\")\n",
    "plt.title(\"Observed Values of COVID Cases per Capita vs Predicted Values\");"
   ]
  },
  {
   "cell_type": "markdown",
   "id": "fedb5469",
   "metadata": {
    "deletable": false,
    "editable": false
   },
   "source": [
    "<!-- END QUESTION -->\n",
    "\n",
    "### Question 5f\n",
    "\n",
    "We will investigate the bias and variance of this improved model on the test set using the bias-variance decomposition to formalize the behaviour of our model. To generate an empirical estimate of the errors and the parameters in the bias-variance decomposition, train 1000 bootstrapped models on the training dataset from part (d).\n",
    "\n",
    "<!--\n",
    "BEGIN QUESTION\n",
    "name: q5f\n",
    "points: 5\n",
    "-->"
   ]
  },
  {
   "cell_type": "code",
   "execution_count": 18,
   "id": "f7b7619b",
   "metadata": {},
   "outputs": [],
   "source": [
    "models = [LinearRegression() for i in np.arange(1000)]\n",
    "for model in models:\n",
    "    xtrain = X_q5d_train.sample(frac=1, replace = True)\n",
    "    ytrain = y_q5d_train.sample(frac=1, replace = True)\n",
    "    model = model.fit(xtrain, ytrain)"
   ]
  },
  {
   "cell_type": "code",
   "execution_count": 19,
   "id": "5211469f",
   "metadata": {
    "deletable": false,
    "editable": false
   },
   "outputs": [
    {
     "data": {
      "text/html": [
       "<p><strong><pre style='display: inline;'>q5f</pre></strong> passed!</p>"
      ],
      "text/plain": [
       "q5f results: All test cases passed!"
      ]
     },
     "execution_count": 19,
     "metadata": {},
     "output_type": "execute_result"
    }
   ],
   "source": [
    "grader.check(\"q5f\")"
   ]
  },
  {
   "cell_type": "markdown",
   "id": "715760e0",
   "metadata": {
    "deletable": false,
    "editable": false
   },
   "source": [
    "### Question 5g\n",
    "\n",
    "To investigate the variance in our test predictions, we sample a particular test point $(x_i, y_i)$ such that $i = 100$. In other words, we will use the 100th point in the test set from part (d), `(X_q5d_test.iloc[100], y_q5d_test.iloc[100])` as the testing point.\n",
    "\n",
    "Generate predictions and square errors for this test point for all 1000 models, and calculate the *proportion* of the *expected* square error that is captured by the model prediction variance. In other words, we wish to estimate the following quantity:\n",
    "\n",
    "$$\n",
    "\\frac{\\mathrm{Var}(f_\\theta(x_i))}{\\mathrm{E}_\\theta[(y_i - f_\\theta(x_i))^2]}\n",
    "$$\n",
    "\n",
    "*Hint*: Refer to the bias-variance decomposition from lecture.\n",
    "<!--\n",
    "BEGIN QUESTION\n",
    "name: q5g\n",
    "points: 5\n",
    "-->"
   ]
  },
  {
   "cell_type": "code",
   "execution_count": 20,
   "id": "896ac261",
   "metadata": {},
   "outputs": [
    {
     "data": {
      "text/plain": [
       "0.0009848588202218491"
      ]
     },
     "execution_count": 20,
     "metadata": {},
     "output_type": "execute_result"
    }
   ],
   "source": [
    "predictions = []\n",
    "squareerrors = []\n",
    "for model in models:\n",
    "    prediction = model.predict([X_q5d_test.iloc[100]])[0][0]\n",
    "    predictions.append(prediction)\n",
    "    squareerrors.append((y_q5d_test.iloc[100][0] - prediction)**2)\n",
    "    \n",
    "prop_var = np.var(predictions)/np.mean(squareerrors)\n",
    "prop_var"
   ]
  },
  {
   "cell_type": "code",
   "execution_count": 21,
   "id": "4b7bcc0c",
   "metadata": {
    "deletable": false,
    "editable": false,
    "tags": []
   },
   "outputs": [
    {
     "data": {
      "text/html": [
       "<p><strong><pre style='display: inline;'>q5g</pre></strong> passed!</p>"
      ],
      "text/plain": [
       "q5g results: All test cases passed!"
      ]
     },
     "execution_count": 21,
     "metadata": {},
     "output_type": "execute_result"
    }
   ],
   "source": [
    "grader.check(\"q5g\")"
   ]
  },
  {
   "cell_type": "markdown",
   "id": "0b590da8",
   "metadata": {
    "deletable": false,
    "editable": false
   },
   "source": [
    "<!-- BEGIN QUESTION -->\n",
    "\n",
    "### Question 5h\n",
    "\n",
    "Using the bias-variance decomposition, comment on how much the variance of the model contributes to the error on the sample point above. We will extend this scenario to analyze the noise term in the bias-variance decomposition, specifically with regards to this COVID-19 dataset. Consider the following:\n",
    "\n",
    "i) Assuming no observational noise (i.e. $\\epsilon = 0$), what is the *magnitude* of the empirical model bias on this sample point?\n",
    "\n",
    "ii) Clearly, there is a non-trivial amount of observational noise with COVID-19 case data simply due to how testing works and occurs. Please take a look at [this article](https://fivethirtyeight.com/features/coronavirus-case-counts-are-meaningless/) for more information. Given this infomation, explain the issues with the assumptions and result in 5h(i).\n",
    "\n",
    "iii) Recall that we typically assume $y = g(x) + \\epsilon$, where $\\epsilon \\sim \\mathcal{N}(\\mu, \\sigma)$. In the theoretical setting for bias-variance, we have assumed $\\mu = 0, \\sigma > 0$. In this practical setting, analyze and determine how $\\epsilon$ could be modeled (as a normal distribution, but you may also consider how it could be modeled as another distribution). Are there any immediate issues with the assumptions we have made in the theoretical setting where $\\mu = 0, \\sigma > 0$? What conditions on $\\mu, \\sigma$ could be more appropriate and why?\n",
    "\n",
    "iv) Does the standard bias-variance decomposition presented in lecture hold given $\\epsilon$ being normally distributed according to your answer in part (iii)? If so, please explain why. If not, explain why it does not hold and if possible, how to modify the bias-variance decomposition to make it hold (i.e. perhaps there is an additional noise term $E[\\epsilon^3]$). \n",
    "\n",
    "*Hint*: Try to express $y = g(x) + \\epsilon$ by adding and subtracting a certain quantity.\n",
    "\n",
    "v) Intuitively, is it possible to minimize the true model bias to 0 given your $\\epsilon$ formulation in part (iii)? Why or why not? Justify your answer using part (iv) if possible.\n",
    "\n",
    "vi) Consider the infinite sample case where an oracle grants you as many samples as requested, and answer the same question in part (v). Is it possible to minimize the true model bias to 0 given your $\\epsilon$ formulation in part (iii)? Conclude with an analysis of what our modeling task can approximate using $X\\theta \\approx y$ in the finite and infinite sample case.\n",
    "\n",
    "<!--\n",
    "BEGIN QUESTION\n",
    "name: q5h\n",
    "points: 24\n",
    "manual: True\n",
    "-->"
   ]
  },
  {
   "cell_type": "markdown",
   "id": "f478bb92",
   "metadata": {},
   "source": [
    "5i. error = observational noise + bias^2 + variance\n",
    "\n",
    "error - 0 - variance = bias^2\n",
    "\n",
    "bias = 0.001240375941844189\n",
    "\n",
    "ii. As discussed in the article, COVID-19 case counts actually have a rather high amount of observational noise. The assumption made in 5h(i) is that there is zero observational noise, which is highly unlikely if not impossible. One major factor behind this that's covered in the article is the lag between infection and test result reporting. The article cites Wuhan and California as places in which there is a particularly large lag, meaning case counts on a given day are not representative of the number of people who have COVID on that day, or even of the number of people who tested themselves that day and got a positive result. The article also states that the false negative rate for COVID tests is as high as 30%, meaning that in many instances, case counts will be far lower than the number of people who actually have COVID. The data on false positives is less clear, but it appears that the false positive rate is nonzero, which also contradicts the assumption of 5h(i).\n",
    "\n",
    "iii. According to a combination of intuition and the info in the article, it's more likely that COVID case counts are underreported than overreported. This is largely due to the differences in prevalence of false positives and false negatives, as well as the way in which people not getting tested affects case counts. This means that it is more likely for the case counts to be too low than too high, making it impossible for noise to be modeled with mu = 0, sigma > 0. \n",
    "Because we can pretty confidently say the noise is skewed towards underreporting, mu = 0 is wrong. The noise in COVID case reporting is having an impact in a particular direction, meaning the mean value of the noise cannot be 0. Underreported cases would be represented by a negative epsilon value, making our observed value y lower than the true value, g(x). \n",
    "By definition, standard deviation is a squared value. By the nature of COVID testing, its virtually impossible that the random noise will only ever take on one value. Therefore, sigma > 0 is an appropriate condition as there's gonna be some distance between at least some observed values and the mean.\n",
    "It's significantly more difficult to say whether or not a normal distribution is appropriate. Given the available information, it's unclear which, if any, conditions of a normal distribution would be violated when modeling noise (assuming the mean is changed to a more appropriate value). Therefore, we will assume a normal distribution is appropriate as it's typically most appropriate for modeling the distribution of natural phenomena. \n",
    "\n",
    "iv. Yes it still holds. We would just have a noise variable with a negative value instead of 0. \n",
    "\n",
    "v. Yes it's possible. Bias is composed of g(x) and the expectation of our predicted value. Neither of those numbers are affected by the random noise term. \n",
    "\n",
    "vi. It would still be possible. Using this approximation, we could approximate (error - noise - variance) because we would be able to set bias to 0."
   ]
  },
  {
   "cell_type": "markdown",
   "id": "653f5fdb",
   "metadata": {
    "deletable": false,
    "editable": false
   },
   "source": [
    "<!-- END QUESTION -->\n",
    "\n",
    "### Question 5i\n",
    "\n",
    "Using the bias-variance decomposition for each test point, calculate the average variance and average test mean-square error across the entire test set from part (d). In other words, estimate the following quantities:\n",
    "\n",
    "$$\n",
    "\\frac{1}{n} \\sum_i \\mathrm{Var}(f_\\theta(x_i))\n",
    "$$\n",
    "\n",
    "and\n",
    "\n",
    "$$\n",
    "\\frac{1}{n} \\sum_i \\mathrm{E}_\\theta[(y_i - f_\\theta(x_i))^2]\n",
    "$$\n",
    "\n",
    "<!--\n",
    "BEGIN QUESTION\n",
    "name: q5i\n",
    "points: 5\n",
    "manual: False\n",
    "-->"
   ]
  },
  {
   "cell_type": "code",
   "execution_count": 22,
   "id": "9a207935",
   "metadata": {},
   "outputs": [
    {
     "data": {
      "text/plain": [
       "(3.6609255416348734e-06, 0.0015619604809727428)"
      ]
     },
     "execution_count": 22,
     "metadata": {},
     "output_type": "execute_result"
    }
   ],
   "source": [
    "avg_var, avg_mse = [], []\n",
    "\n",
    "for point in range(len(X_q5d_test)):\n",
    "    \n",
    "    predictions = []\n",
    "    squareerrors = []\n",
    "    for model in models:\n",
    "        prediction = model.predict([X_q5d_test.iloc[point]])[0][0]\n",
    "        predictions.append(prediction)\n",
    "    vari = np.sum((predictions - np.mean(predictions))**2/(len(predictions)-1))\n",
    "    avg_var.append(vari)\n",
    "    bias = np.mean(predictions)-y_q5d_test.iloc[point][0]\n",
    "    avg_mse.append(bias **2 + vari)\n",
    "    #bias = np.mean(predictions)-y_q5d_test.iloc[point][0]\n",
    "    #variance = np.sum((predictions - np.mean(predictions))**2/(len(predictions)-1))\n",
    "    #prop_var = bias**2 + variance\n",
    "    #prop_var\n",
    "\n",
    "avg_var = np.sum(avg_var)/len(avg_var)\n",
    "avg_mse =  np.sum(avg_mse)/len(avg_mse)\n",
    "avg_var, avg_mse"
   ]
  },
  {
   "cell_type": "code",
   "execution_count": 23,
   "id": "8243a140",
   "metadata": {
    "deletable": false,
    "editable": false
   },
   "outputs": [
    {
     "data": {
      "text/html": [
       "<p><strong><pre style='display: inline;'>q5i</pre></strong> passed!</p>"
      ],
      "text/plain": [
       "q5i results: All test cases passed!"
      ]
     },
     "execution_count": 23,
     "metadata": {},
     "output_type": "execute_result"
    }
   ],
   "source": [
    "grader.check(\"q5i\")"
   ]
  },
  {
   "cell_type": "markdown",
   "id": "15d6f530",
   "metadata": {
    "deletable": false,
    "editable": false
   },
   "source": [
    "<!-- BEGIN QUESTION -->\n",
    "\n",
    "## Question 5j\n",
    "\n",
    "Propose a solution to reducing the mean square error using the insights gained from the bias-variance decomposition above. What are the values of the quantities that have we estimated and what can be concluded about the remaining quantities? Please show all work that informs your analysis.\n",
    "\n",
    "Assume that the standard bias-variance decomposition used in lecture can be applied here.\n",
    "<!--\n",
    "BEGIN QUESTION\n",
    "name: q5j\n",
    "points: 5\n",
    "manual: True\n",
    "-->"
   ]
  },
  {
   "cell_type": "markdown",
   "id": "99bbb2f5",
   "metadata": {},
   "source": [
    "_To reduce MSE, we would want to decrease at least one of observational noise, model bias, and model variance while keeping the other terms constant. We can't change observational noise without changing testing protocols, so it will have to be either bias or variance. Due to the bias-variance tradeoff, this becomes more difficult. Since the bias term is squared in the bias-variance decomposition, a decrease in bias should outweigh the resulting increase in variance, thus reducing model risk, or MSE. We can decrease bias by increasing model complexity, or adding more features. This makes sense intuitively - right now we're only training our models on mask use. In Part 1, we determined through PCA that mask use wasn't the strongest predictor of cases, so there's clearly room for us to add new features to the model. ._"
   ]
  },
  {
   "cell_type": "markdown",
   "id": "e6f0f9b9",
   "metadata": {
    "tags": []
   },
   "source": [
    "<!-- END QUESTION -->\n",
    "\n",
    "\n",
    "\n",
    "<br/><br/><br/>\n",
    "\n",
    "---\n",
    "\n",
    "<br/><br/><br/>\n",
    "\n",
    "## Question 6: Open Supervised Modeling\n",
    "\n",
    "We wish to extend our modeling framework from Question 5 to make it more accurate; in other words, we wish to predict $f(x)$, a supervised learning output, based on past and current quantities. \n",
    "\n",
    "This section will serve as a rough guide on creating an autoregressive modeling framework for predicting a COVID-19 quantity of your choice (i.e. deaths, cases, vaccinations).\n",
    "\n",
    "Note that if you do not wish to pursue time-based modeling of COVID-19, you may skip parts (d), (e), and (f). That being said, you are strongly encouraged to incorporate time-based modeling into your open-ended modeling design since it constitutes a large component of the provided datasets.\n",
    "\n",
    "We will ***not*** grade these below questions individually (i.e. there are no points explicitly assigned to questions 6(a) to 6(f)); they are simply guiding questions and will be graded as part of the final project report. You should make sure to answer all of the questions (that are applicable to your open-ended modeling) in some form in the report."
   ]
  },
  {
   "cell_type": "markdown",
   "id": "4b1e3e64",
   "metadata": {
    "deletable": false,
    "editable": false
   },
   "source": [
    "<!-- BEGIN QUESTION -->\n",
    "\n",
    "### Question 6a\n",
    "\n",
    "Train a baseline model where $f$ is the model described in Question 0a and $x$ is a quantity of *your* choice. Note that you may used *any* supervised learning approach we have studied; you are not limited to a linear model.\n",
    "\n",
    "<!--\n",
    "BEGIN QUESTION\n",
    "name: q6a\n",
    "points: 0\n",
    "manual: True\n",
    "-->"
   ]
  },
  {
   "cell_type": "code",
   "execution_count": 24,
   "id": "e6d7ab83-2efd-47d5-b227-b5f120d9490f",
   "metadata": {},
   "outputs": [
    {
     "data": {
      "text/html": [
       "<div>\n",
       "<style scoped>\n",
       "    .dataframe tbody tr th:only-of-type {\n",
       "        vertical-align: middle;\n",
       "    }\n",
       "\n",
       "    .dataframe tbody tr th {\n",
       "        vertical-align: top;\n",
       "    }\n",
       "\n",
       "    .dataframe thead th {\n",
       "        text-align: right;\n",
       "    }\n",
       "</style>\n",
       "<table border=\"1\" class=\"dataframe\">\n",
       "  <thead>\n",
       "    <tr style=\"text-align: right;\">\n",
       "      <th></th>\n",
       "      <th>0mask</th>\n",
       "      <th>1mask</th>\n",
       "      <th>2mask</th>\n",
       "      <th>3mask</th>\n",
       "      <th>4mask</th>\n",
       "      <th>5mask</th>\n",
       "      <th>6mask</th>\n",
       "      <th>COUNTYFP</th>\n",
       "      <th>0case</th>\n",
       "      <th>1case</th>\n",
       "      <th>2case</th>\n",
       "      <th>3case</th>\n",
       "      <th>4case</th>\n",
       "      <th>5case</th>\n",
       "      <th>6case</th>\n",
       "    </tr>\n",
       "  </thead>\n",
       "  <tbody>\n",
       "    <tr>\n",
       "      <th>0</th>\n",
       "      <td>0.618</td>\n",
       "      <td>0.524</td>\n",
       "      <td>0.485</td>\n",
       "      <td>0.464</td>\n",
       "      <td>0.513</td>\n",
       "      <td>0.5208</td>\n",
       "      <td>0.520800</td>\n",
       "      <td>1001</td>\n",
       "      <td>0.136563</td>\n",
       "      <td>0.125547</td>\n",
       "      <td>0.165973</td>\n",
       "      <td>0.172389</td>\n",
       "      <td>0.142041</td>\n",
       "      <td>0.148503</td>\n",
       "      <td>0.148503</td>\n",
       "    </tr>\n",
       "    <tr>\n",
       "      <th>1</th>\n",
       "      <td>0.430</td>\n",
       "      <td>0.387</td>\n",
       "      <td>0.506</td>\n",
       "      <td>0.378</td>\n",
       "      <td>0.495</td>\n",
       "      <td>0.5240</td>\n",
       "      <td>0.453333</td>\n",
       "      <td>1003</td>\n",
       "      <td>0.189644</td>\n",
       "      <td>0.170943</td>\n",
       "      <td>0.166948</td>\n",
       "      <td>0.146879</td>\n",
       "      <td>0.149662</td>\n",
       "      <td>0.167069</td>\n",
       "      <td>0.165191</td>\n",
       "    </tr>\n",
       "    <tr>\n",
       "      <th>2</th>\n",
       "      <td>0.500</td>\n",
       "      <td>0.460</td>\n",
       "      <td>0.438</td>\n",
       "      <td>0.330</td>\n",
       "      <td>0.570</td>\n",
       "      <td>0.5620</td>\n",
       "      <td>0.538000</td>\n",
       "      <td>1005</td>\n",
       "      <td>0.144447</td>\n",
       "      <td>0.164096</td>\n",
       "      <td>0.164722</td>\n",
       "      <td>0.130407</td>\n",
       "      <td>0.099576</td>\n",
       "      <td>0.105722</td>\n",
       "      <td>0.102158</td>\n",
       "    </tr>\n",
       "    <tr>\n",
       "      <th>3</th>\n",
       "      <td>0.618</td>\n",
       "      <td>0.639</td>\n",
       "      <td>0.628</td>\n",
       "      <td>0.618</td>\n",
       "      <td>0.545</td>\n",
       "      <td>0.5320</td>\n",
       "      <td>0.596667</td>\n",
       "      <td>1007</td>\n",
       "      <td>0.136563</td>\n",
       "      <td>0.190866</td>\n",
       "      <td>0.163438</td>\n",
       "      <td>0.151491</td>\n",
       "      <td>0.154931</td>\n",
       "      <td>0.152046</td>\n",
       "      <td>0.158223</td>\n",
       "    </tr>\n",
       "    <tr>\n",
       "      <th>4</th>\n",
       "      <td>0.379</td>\n",
       "      <td>0.501</td>\n",
       "      <td>0.628</td>\n",
       "      <td>0.479</td>\n",
       "      <td>0.495</td>\n",
       "      <td>0.4290</td>\n",
       "      <td>0.485167</td>\n",
       "      <td>1009</td>\n",
       "      <td>0.159321</td>\n",
       "      <td>0.177482</td>\n",
       "      <td>0.163438</td>\n",
       "      <td>0.172843</td>\n",
       "      <td>0.159413</td>\n",
       "      <td>0.155663</td>\n",
       "      <td>0.164693</td>\n",
       "    </tr>\n",
       "  </tbody>\n",
       "</table>\n",
       "</div>"
      ],
      "text/plain": [
       "   0mask  1mask  2mask  3mask  4mask   5mask     6mask  COUNTYFP     0case  \\\n",
       "0  0.618  0.524  0.485  0.464  0.513  0.5208  0.520800      1001  0.136563   \n",
       "1  0.430  0.387  0.506  0.378  0.495  0.5240  0.453333      1003  0.189644   \n",
       "2  0.500  0.460  0.438  0.330  0.570  0.5620  0.538000      1005  0.144447   \n",
       "3  0.618  0.639  0.628  0.618  0.545  0.5320  0.596667      1007  0.136563   \n",
       "4  0.379  0.501  0.628  0.479  0.495  0.4290  0.485167      1009  0.159321   \n",
       "\n",
       "      1case     2case     3case     4case     5case     6case  \n",
       "0  0.125547  0.165973  0.172389  0.142041  0.148503  0.148503  \n",
       "1  0.170943  0.166948  0.146879  0.149662  0.167069  0.165191  \n",
       "2  0.164096  0.164722  0.130407  0.099576  0.105722  0.102158  \n",
       "3  0.190866  0.163438  0.151491  0.154931  0.152046  0.158223  \n",
       "4  0.177482  0.163438  0.172843  0.159413  0.155663  0.164693  "
      ]
     },
     "execution_count": 24,
     "metadata": {},
     "output_type": "execute_result"
    }
   ],
   "source": [
    "#Read in county adjacency data, and define helper function to find adjacent counties given FIP\n",
    "#https://www.census.gov/programs-surveys/geography/library/reference/county-adjacency-file.html\n",
    "counties_adjacency = pd.read_csv(\"https://data.nber.org/census/geo/county-adjacency/2010/county_adjacency2010.csv\")\n",
    "def find_adjacent(fip):\n",
    "    neighbors=counties_adjacency[counties_adjacency['fipscounty']==fip]['fipsneighbor'].tolist()\n",
    "    neighbors.remove(fip)\n",
    "    return neighbors\n",
    "\n",
    "#Drop COUNTYFPs 2261, 2158, 46102, 15001, 15003, 15007 as they are missing from 'cases' or do not have neighbors, and we will unable to predict it in our model.\n",
    "removed_counties = [2261, 2158, 46102, 15001, 15003, 15007]\n",
    "part6_countydata = county_data.copy()\n",
    "part6_countydata = part6_countydata[~(part6_countydata[\"COUNTYFP\"].isin(removed_counties))].reset_index()\n",
    "mask_use_6a = mask_use.copy()\n",
    "mask_use_6a = mask_use[~(mask_use[\"COUNTYFP\"].isin(removed_counties))].reset_index()\n",
    "all_neighbors = []\n",
    "\n",
    "#Iterate over mask_use and add 'ALWAYS' mask_use data of neighboring counties\n",
    "for index, row in mask_use_6a.iterrows():\n",
    "    neighbors = []\n",
    "    for i in find_adjacent(row['COUNTYFP']):\n",
    "        if i in mask_use_6a['COUNTYFP'].values:\n",
    "            neighbor = (mask_use_6a[mask_use_6a['COUNTYFP']==i])\n",
    "            mask_rate = neighbor['ALWAYS'].iloc[0]\n",
    "            neighbors.append(mask_rate)\n",
    "    all_neighbors.append(neighbors)\n",
    "mask_use_6a['neighbors_alwaysmaskrate'] = all_neighbors\n",
    "separated_maskneighbors_6a = pd.DataFrame([pd.Series(x) for x in mask_use_6a.neighbors_alwaysmaskrate])\n",
    "\n",
    "# Need to trim dataframe due to large number of NaN values, which sklearn is unable to handle while fitting.\n",
    "# The number of nan values in the 8th neighbor column is the point at which NaNs becomes more than half of the total entries in the column (arbitrary boundary). \n",
    "# So, drop column 7 and later.\n",
    "part6_data = separated_maskneighbors_6a.drop(np.arange(7,len(separated_maskneighbors_6a.columns)), axis=1)\n",
    "\n",
    "# Impute NaN values with the row mean\n",
    "part6_data = part6_data.apply(lambda row: row.fillna(row.mean()), axis=1)\n",
    "\n",
    "#Readd COUNTYFP values\n",
    "part6_data['COUNTYFP'] = mask_use_6a['COUNTYFP']\n",
    "\n",
    "#adding case data, drop counties\n",
    "cases_per_capita_6 = part6_countydata.copy()\n",
    "cases_per_capita_6['9/12/21'] = cases_per_capita_6.loc[:, '9/12/21'].divide(cases_per_capita_6['POPESTIMATE2020'], axis=0)\n",
    "cases_per_capita_6 = cases_per_capita_6[['9/12/21', 'COUNTYFP']]\n",
    "cases_per_capita_6 = cases_per_capita_6[~(cases_per_capita_6[\"COUNTYFP\"].isin(removed_counties))].reset_index()\n",
    "\n",
    "#Iterate over cases_per_capita_6 and add neighboring county case rates\n",
    "all_neighbors = []\n",
    "for index, row in cases_per_capita_6.iterrows():\n",
    "    neighbors = []\n",
    "    for i in find_adjacent(row['COUNTYFP']):\n",
    "        if i in cases_per_capita_6['COUNTYFP'].values:\n",
    "            neighbor = (cases_per_capita_6[cases_per_capita_6['COUNTYFP']==i])\n",
    "            case_rate = neighbor['9/12/21'].iloc[0]\n",
    "            neighbors.append(case_rate)\n",
    "    all_neighbors.append(neighbors)\n",
    "cases_per_capita_6['neighbors_caserate'] = all_neighbors\n",
    "separated_caseneighbors_6a = pd.DataFrame([pd.Series(x) for x in cases_per_capita_6.neighbors_caserate])\n",
    "\n",
    "#Drop neighbors over 7 and impute NaN values with the row mean\n",
    "separated_caseneighbors_6a = separated_caseneighbors_6a.drop(np.arange(7,len(separated_caseneighbors_6a.columns)), axis=1).apply(lambda row: row.fillna(row.mean()), axis=1)\n",
    "#Readd COUNTYFP values\n",
    "separated_caseneighbors_6a['COUNTYFP'] = cases_per_capita_6['COUNTYFP']\n",
    "#Merge with mask data\n",
    "part6a_data = part6_data.merge(separated_caseneighbors_6a, on='COUNTYFP', how='inner', suffixes=('mask', 'case'))\n",
    "part6a_data.head()"
   ]
  },
  {
   "cell_type": "code",
   "execution_count": 25,
   "id": "0564fe58-09c6-4733-a965-97256e89d78f",
   "metadata": {},
   "outputs": [
    {
     "data": {
      "text/html": [
       "<div>\n",
       "<style scoped>\n",
       "    .dataframe tbody tr th:only-of-type {\n",
       "        vertical-align: middle;\n",
       "    }\n",
       "\n",
       "    .dataframe tbody tr th {\n",
       "        vertical-align: top;\n",
       "    }\n",
       "\n",
       "    .dataframe thead th {\n",
       "        text-align: right;\n",
       "    }\n",
       "</style>\n",
       "<table border=\"1\" class=\"dataframe\">\n",
       "  <thead>\n",
       "    <tr style=\"text-align: right;\">\n",
       "      <th></th>\n",
       "      <th>index</th>\n",
       "      <th>9/12/21</th>\n",
       "      <th>COUNTYFP</th>\n",
       "    </tr>\n",
       "  </thead>\n",
       "  <tbody>\n",
       "    <tr>\n",
       "      <th>count</th>\n",
       "      <td>3136.000000</td>\n",
       "      <td>3136.000000</td>\n",
       "      <td>3136.000000</td>\n",
       "    </tr>\n",
       "    <tr>\n",
       "      <th>mean</th>\n",
       "      <td>1567.500000</td>\n",
       "      <td>0.126661</td>\n",
       "      <td>30411.318240</td>\n",
       "    </tr>\n",
       "    <tr>\n",
       "      <th>std</th>\n",
       "      <td>905.429548</td>\n",
       "      <td>0.037588</td>\n",
       "      <td>15150.225362</td>\n",
       "    </tr>\n",
       "    <tr>\n",
       "      <th>min</th>\n",
       "      <td>0.000000</td>\n",
       "      <td>0.000000</td>\n",
       "      <td>1001.000000</td>\n",
       "    </tr>\n",
       "    <tr>\n",
       "      <th>10%</th>\n",
       "      <td>313.500000</td>\n",
       "      <td>0.081143</td>\n",
       "      <td>9508.000000</td>\n",
       "    </tr>\n",
       "    <tr>\n",
       "      <th>50%</th>\n",
       "      <td>1567.500000</td>\n",
       "      <td>0.127342</td>\n",
       "      <td>29180.000000</td>\n",
       "    </tr>\n",
       "    <tr>\n",
       "      <th>99%</th>\n",
       "      <td>3103.650000</td>\n",
       "      <td>0.214811</td>\n",
       "      <td>55124.300000</td>\n",
       "    </tr>\n",
       "    <tr>\n",
       "      <th>max</th>\n",
       "      <td>3135.000000</td>\n",
       "      <td>0.486494</td>\n",
       "      <td>56045.000000</td>\n",
       "    </tr>\n",
       "  </tbody>\n",
       "</table>\n",
       "</div>"
      ],
      "text/plain": [
       "             index      9/12/21      COUNTYFP\n",
       "count  3136.000000  3136.000000   3136.000000\n",
       "mean   1567.500000     0.126661  30411.318240\n",
       "std     905.429548     0.037588  15150.225362\n",
       "min       0.000000     0.000000   1001.000000\n",
       "10%     313.500000     0.081143   9508.000000\n",
       "50%    1567.500000     0.127342  29180.000000\n",
       "99%    3103.650000     0.214811  55124.300000\n",
       "max    3135.000000     0.486494  56045.000000"
      ]
     },
     "execution_count": 25,
     "metadata": {},
     "output_type": "execute_result"
    }
   ],
   "source": [
    "cases_per_capita_6.describe(percentiles=[.1, .5, .99])"
   ]
  },
  {
   "cell_type": "code",
   "execution_count": 26,
   "id": "ed435e3e-a6d0-4b76-b3c9-2a3dbbdaa787",
   "metadata": {},
   "outputs": [
    {
     "name": "stdout",
     "output_type": "stream",
     "text": [
      "Baseline Test RMSE: 0.02878011117332395\n",
      "Baseline Test R^2: 0.44365947058401967\n"
     ]
    }
   ],
   "source": [
    "from sklearn.metrics import r2_score\n",
    "\n",
    "X_q6a = train_test_split(part6a_data.drop(columns='COUNTYFP'), test_size = 0.33, random_state = 42)\n",
    "y_q6a = train_test_split(cases_per_capita_6['9/12/21'], test_size = 0.33, random_state = 42)\n",
    "\n",
    "X_q6a_train, X_q6a_test, y_q6a_train, y_q6a_test = X_q6a[0], X_q6a[1], y_q6a[0], y_q6a[1]\n",
    "\n",
    "#Baseline model predicts case rate from mean of neighboring county case rates.\n",
    "baseline_predictions = np.mean(X_q6a_test.iloc[:, 7:14], axis=1)\n",
    "baseline_rmse = np.sqrt(np.mean((y_q6a_test - baseline_predictions)**2))\n",
    "baseline_r2 = r2_score(y_q6a_test, baseline_predictions)\n",
    "\n",
    "print(f\"Baseline Test RMSE: {baseline_rmse}\")\n",
    "print(f\"Baseline Test R^2: {baseline_r2}\")"
   ]
  },
  {
   "cell_type": "markdown",
   "id": "1a3b8a40",
   "metadata": {},
   "source": [
    "<!-- END QUESTION -->\n",
    "\n",
    "<!-- BEGIN QUESTION -->\n",
    "\n",
    "### Question 6b\n",
    "\n",
    "Improve your model from part (a). Specify the supervised model you choose and write $f(x)$ as a function of the chosen features and parameters in your model. Justify why you chose these features and how you expect they will correlate with the output you wish to predict.\n",
    "\n",
    "<!--\n",
    "BEGIN QUESTION\n",
    "name: q6b\n",
    "points: 0\n",
    "manual: True\n",
    "-->"
   ]
  },
  {
   "cell_type": "code",
   "execution_count": 27,
   "id": "2ab8fd7c-5bc6-45a8-a423-33cf832e8bcb",
   "metadata": {},
   "outputs": [
    {
     "name": "stdout",
     "output_type": "stream",
     "text": [
      "Train RMSE: 0.02616179134344437\n",
      "Train R^2: 0.5021372504101781\n",
      "Test RMSE: 0.02846628215832868\n",
      "Test R^2: 0.45572640601700676\n"
     ]
    }
   ],
   "source": [
    "model_6a = LinearRegression()\n",
    "model_6a.fit(X_q6a_train, y_q6a_train)\n",
    "case_trainpredictions_6a = model_6a.predict(X_q6a_train)\n",
    "trainrmse_6a = np.sqrt(np.mean((y_q6a_train - case_trainpredictions_6a)**2))\n",
    "trainr2_6a = r2_score(y_q6a_train, case_trainpredictions_6a)\n",
    "\n",
    "case_testpredictions_6a = model_6a.predict(X_q6a_test)\n",
    "testrmse_6a = np.sqrt(np.mean((y_q6a_test - case_testpredictions_6a)**2))\n",
    "testr2_6a = r2_score(y_q6a_test, case_testpredictions_6a)\n",
    "\n",
    "\n",
    "print(f\"Train RMSE: {trainrmse_6a}\")\n",
    "print(f\"Train R^2: {trainr2_6a}\")\n",
    "print(f\"Test RMSE: {testrmse_6a}\")\n",
    "print(f\"Test R^2: {testr2_6a}\")"
   ]
  },
  {
   "cell_type": "code",
   "execution_count": 28,
   "id": "245a8ab7-750d-45e1-af0c-4200e99dac81",
   "metadata": {},
   "outputs": [
    {
     "data": {
      "image/png": "[encoded data removed]",
      "text/plain": [
       "<Figure size 1000x1000 with 1 Axes>"
      ]
     },
     "metadata": {},
     "output_type": "display_data"
    },
    {
     "data": {
      "image/png": "[encoded data removed]",
      "text/plain": [
       "<Figure size 1000x1000 with 1 Axes>"
      ]
     },
     "metadata": {},
     "output_type": "display_data"
    }
   ],
   "source": [
    "plt.figure(figsize=(10,10))\n",
    "plt.scatter(x=y_q6a_test, y=case_testpredictions_6a, s=8, c='crimson')\n",
    "plt.plot([0,0.25],[0,0.25], 'b-')\n",
    "plt.xticks(np.arange(0, 0.5, step=0.05))\n",
    "plt.yticks(np.arange(0, 0.3, step=0.05))\n",
    "plt.title('Predicted COVID-19 Per Capita Case Rates vs. True Values on 9/12/21')\n",
    "plt.xlabel('True Values')\n",
    "plt.ylabel('Predictions');\n",
    "\n",
    "residuals_6a = y_q6a_test - case_testpredictions_6a\n",
    "plt.figure(figsize=(10,10))\n",
    "plt.scatter(x=case_testpredictions_6a, y=residuals_6a, s=8, c='crimson')\n",
    "plt.plot([0,0.2],[0,0], 'b-')\n",
    "plt.title('Residuals vs. Predictions')\n",
    "plt.xlabel('Predictions')\n",
    "plt.ylabel('residual');"
   ]
  },
  {
   "cell_type": "markdown",
   "id": "f28de6f8",
   "metadata": {
    "deletable": false,
    "editable": false
   },
   "source": [
    "<!-- END QUESTION -->\n",
    "\n",
    "<!-- BEGIN QUESTION -->\n",
    "\n",
    "### Question 6c\n",
    "\n",
    "If applicable, write an equation or rule for the prediction function $f(x)$; if this is infeasible, make sure to visualize your model parameters in some way. Interpret your improved model's optimal parameters (*hint*: refer to 1aiii), and compare these parameters to those of the baseline model. Comment on whether the parameters follow physical intuition given the nature of the prediction task.\n",
    "\n",
    "For example, if you chose to use a decision tree, you may interpret the generated rules.\n",
    " \n",
    "<!--\n",
    "BEGIN QUESTION\n",
    "name: q6c\n",
    "points: 0\n",
    "manual: True\n",
    "-->"
   ]
  },
  {
   "cell_type": "markdown",
   "id": "df0defa5",
   "metadata": {},
   "source": [
    "_Type your answer here, replacing this text._"
   ]
  },
  {
   "cell_type": "markdown",
   "id": "16b89e46",
   "metadata": {
    "deletable": false,
    "editable": false
   },
   "source": [
    "<!-- END QUESTION -->\n",
    "\n",
    "<!-- BEGIN QUESTION -->\n",
    "\n",
    "### Question 6d\n",
    "\n",
    "Discuss your improved model's performance on both short-term and long-term time scales using a metric of your choice (*hint:* we're using an autoregressive model). In other words, given $x_t$, we wish to predict $\\hat{x}_{t+k}$, and plot the error of these predictions for two $k$ values of your choice. You may use any reasonable interpretation of short-term and long-term predictions; an initial suggestion is to use 2-day predictions and 2-week predictions.\n",
    "\n",
    "Compare the performance of this model on both timescales with the baseline model.\n",
    "\n",
    "<!--\n",
    "BEGIN QUESTION\n",
    "name: q6d\n",
    "points: 0\n",
    "manual: True\n",
    "-->"
   ]
  },
  {
   "cell_type": "code",
   "execution_count": 29,
   "id": "797e9a67-732a-4850-abfc-132a37379f22",
   "metadata": {},
   "outputs": [],
   "source": [
    "def rmse(a, b):\n",
    "    return np.sqrt(np.mean((a - b)**2))\n",
    "\n",
    "def cases_day(date):\n",
    "    #Date in format M/D/YY\n",
    "    #Appends case data to part6a_data (baseline model data)\n",
    "    cases_per_capita = part6_countydata.copy()\n",
    "    cases_per_capita[date] = cases_per_capita.loc[:, date].divide(cases_per_capita['POPESTIMATE2020'], axis=0)\n",
    "    cases_per_capita = cases_per_capita[[date, 'COUNTYFP']]\n",
    "    all_neighbors = []\n",
    "    for index, row in cases_per_capita.iterrows():\n",
    "        neighbors = []\n",
    "        for i in find_adjacent(row['COUNTYFP']):\n",
    "            if i in cases_per_capita['COUNTYFP'].values:\n",
    "                neighbor = (cases_per_capita[cases_per_capita['COUNTYFP']==i])\n",
    "                case_rate = neighbor[date].iloc[0]\n",
    "                neighbors.append(case_rate)\n",
    "        all_neighbors.append(neighbors)\n",
    "    cases_per_capita['neighbors_caserate'] = all_neighbors\n",
    "    separated_caseneighbors = pd.DataFrame([pd.Series(x) for x in cases_per_capita.neighbors_caserate])\n",
    "    separated_caseneighbors = separated_caseneighbors.drop(np.arange(7,len(separated_caseneighbors.columns)), axis=1).apply(lambda row: row.fillna(row.mean()), axis=1)\n",
    "    separated_caseneighbors['COUNTYFP'] = cases_per_capita['COUNTYFP']\n",
    "    return part6a_data.merge(separated_caseneighbors, on='COUNTYFP', how='inner', suffixes=('mask', 'case'))\n",
    "\n",
    "def vaccinations_day(date, data):\n",
    "    #Date in format YYYY-MM-DD\n",
    "    #Appends vax data on 'date' to 'data'\n",
    "    vax = vaccinations.copy()\n",
    "    vax= vax[vax['Date']==date]\n",
    "    vax_data = pd.DataFrame()\n",
    "    for index, row in data.iterrows():\n",
    "        statefp = np.trunc(row['COUNTYFP']/1000)\n",
    "        statevax = vax[vax['FIPS']==statefp]\n",
    "        vax_data = vax_data.append(statevax[['People_Fully_Vaccinated', 'People_Partially_Vaccinated']])\n",
    "    vax_data = vax_data.reset_index()\n",
    "    data = pd.concat([data, vax_data], axis=1).drop(columns=['index'])\n",
    "    return data\n",
    "\n",
    "def case_count_per_capita(date):\n",
    "    cases_per_capita = part6_countydata.copy()\n",
    "    cases_per_capita[date] = cases_per_capita.loc[:, date].divide(cases_per_capita['POPESTIMATE2020'], axis=0)\n",
    "    cases_per_capita = cases_per_capita[[date, 'COUNTYFP']]\n",
    "    return cases_per_capita[date]"
   ]
  },
  {
   "cell_type": "code",
   "execution_count": 30,
   "id": "d767a68c-ca25-4de2-91a7-a3e61f2a64c6",
   "metadata": {
    "tags": []
   },
   "outputs": [],
   "source": [
    "part6a_data_improved = vaccinations_day('2021-09-12', part6a_data)\n",
    "part6a_data_improved = part6a_data_improved[~(part6a_data_improved[\"COUNTYFP\"].isin([13053, 8025]))]\n",
    "cases_per_capita_6b = cases_per_capita_6[~(cases_per_capita_6[\"COUNTYFP\"].isin([13053, 8025]))]"
   ]
  },
  {
   "cell_type": "code",
   "execution_count": 31,
   "id": "6e6403d1-e7f0-4a92-a310-617835129bd1",
   "metadata": {},
   "outputs": [
    {
     "name": "stdout",
     "output_type": "stream",
     "text": [
      "Improved Model Train RMSE: 0.025677239057559722\n",
      "Improved Model Train R^2: 0.5190834920945658\n",
      "Improved Model Test RMSE: 0.02591072112096292\n",
      "Improved Model Test R^2: 0.48557062306933374\n"
     ]
    }
   ],
   "source": [
    "X_q6b = train_test_split(part6a_data_improved.drop(columns='COUNTYFP'), test_size = 0.33, random_state = 42)\n",
    "y_q6b = train_test_split(cases_per_capita_6b['9/12/21'], test_size = 0.33, random_state = 42)\n",
    "\n",
    "X_q6b_train, X_q6b_test, y_q6b_train, y_q6b_test = X_q6b[0], X_q6b[1], y_q6b[0], y_q6b[1]\n",
    "\n",
    "model_6b = LinearRegression()\n",
    "model_6b.fit(X_q6b_train, y_q6b_train)\n",
    "\n",
    "case_trainpredictions_6b = model_6b.predict(X_q6b_train)\n",
    "trainrmse_6b = np.sqrt(np.mean((y_q6b_train - case_trainpredictions_6b)**2))\n",
    "trainr2_6b = r2_score(y_q6b_train, case_trainpredictions_6b)\n",
    "\n",
    "case_testpredictions_6b = model_6b.predict(X_q6b_test)\n",
    "testrmse_6b = np.sqrt(np.mean((y_q6b_test - case_testpredictions_6b)**2))\n",
    "testr2_6b = r2_score(y_q6b_test, case_testpredictions_6b)\n",
    "\n",
    "print(f\"Improved Model Train RMSE: {trainrmse_6b}\")\n",
    "print(f\"Improved Model Train R^2: {trainr2_6b}\")\n",
    "print(f\"Improved Model Test RMSE: {testrmse_6b}\")\n",
    "print(f\"Improved Model Test R^2: {testr2_6b}\")"
   ]
  },
  {
   "cell_type": "code",
   "execution_count": 32,
   "id": "605e7549",
   "metadata": {},
   "outputs": [
    {
     "name": "stdout",
     "output_type": "stream",
     "text": [
      "Model RMSE for 2 days ahead: 0.019438078688468592 \n",
      " Model RMSE for 2 weeks ahead: 0.020398550339936244 \n",
      " Baseline RMSE for 2 days ahead: 0.06500161568388789 \n",
      " Baseline RMSE for 2 weeks ahead: 0.05791463965653096\n"
     ]
    }
   ],
   "source": [
    "#Model train x-value: mask and case rate matrix from jan 1\n",
    "X_jan_1 = cases_day('1/1/21')\n",
    "#Model train y-value: actual cases per capita for each county\n",
    "Y_jan_1 = case_count_per_capita('1/1/21')\n",
    "model6d = LinearRegression()\n",
    "model6d.fit(X_jan_1, Y_jan_1)\n",
    "\n",
    "#2-day prediction: Predict from mask and case rate matrix for jan 3\n",
    "X_jan_3 = cases_day('1/3/21')\n",
    "pred_jan_3 = model6d.predict(X_jan_3)\n",
    "#compare predictions with actual cases per capita from jan 3\n",
    "Y_jan_3 = case_count_per_capita('1/3/21')\n",
    "rmse_2day = rmse(Y_jan_3, pred_jan_3)\n",
    "r2_2day = r2_score(Y_jan_3, pred_jan_3)\n",
    "\n",
    "#2-week prediction: predict from mask case matrix for jan 15\n",
    "X_jan_15 = cases_day('1/15/21')\n",
    "pred_jan_15 = model6d.predict(X_jan_15)\n",
    "#compare w/ actual from jan 15\n",
    "Y_jan_15 = case_count_per_capita('1/15/21')\n",
    "rmse_2week = rmse(Y_jan_15, pred_jan_15)\n",
    "r2_2week = r2_score(Y_jan_15, pred_jan_15)\n",
    "\n",
    "rmse_2day, r2_2day, rmse_2week, r2_2week\n",
    "\n",
    "#Get baseline errors\n",
    "baseline_pred = np.mean(cases_day(\"1/1/21\").iloc[:, 8:14], axis=1)\n",
    "rmse_baseline_2day = rmse(baseline_pred,Y_jan_3)\n",
    "rmse_baseline_2week = rmse(baseline_pred, Y_jan_15)\n",
    "\n",
    "print(f\"Model RMSE for 2 days ahead: {rmse_2day} \\n Model RMSE for 2 weeks ahead: {rmse_2week} \\n Baseline RMSE for 2 days ahead: {rmse_baseline_2day} \\n Baseline RMSE for 2 weeks ahead: {rmse_baseline_2week}\")"
   ]
  },
  {
   "cell_type": "code",
   "execution_count": 33,
   "id": "4784ff17-66a8-4d77-9ce8-3bd0dea1f1f8",
   "metadata": {},
   "outputs": [
    {
     "data": {
      "image/png": "[encoded data removed]",
      "text/plain": [
       "<Figure size 640x480 with 1 Axes>"
      ]
     },
     "metadata": {},
     "output_type": "display_data"
    }
   ],
   "source": [
    "plt.scatter(x = Y_jan_3, y = pred_jan_3)\n",
    "plt.xlabel(\"True Values\")\n",
    "plt.ylabel(\"Predictions\")\n",
    "plt.title(\"Predictions for Jan 3, 2021 (2 Days Ahead)\");"
   ]
  },
  {
   "cell_type": "code",
   "execution_count": 34,
   "id": "b0b89804-4509-4aa0-8ddf-23d9b59aee9a",
   "metadata": {},
   "outputs": [
    {
     "data": {
      "image/png": "[encoded data removed]",
      "text/plain": [
       "<Figure size 640x480 with 1 Axes>"
      ]
     },
     "metadata": {},
     "output_type": "display_data"
    }
   ],
   "source": [
    "plt.scatter(x = Y_jan_15, y = pred_jan_15)\n",
    "plt.xlabel(\"True Values\")\n",
    "plt.ylabel(\"Predictions\")\n",
    "plt.title(\"Predictions for Jan 15, 2021 (2 Weeks Ahead)\");"
   ]
  },
  {
   "cell_type": "markdown",
   "id": "74ba1ff2",
   "metadata": {
    "deletable": false,
    "editable": false
   },
   "source": [
    "<!-- END QUESTION -->\n",
    "\n",
    "<!-- BEGIN QUESTION -->\n",
    "\n",
    "### Question 6e\n",
    "\n",
    "Plot and describe the error for both the baseline and improved models as a function of time. In other words, given $x_t$, we wish to predict $\\hat{x}_{t+k}$, and plot the error of these predictions for all $k$.\n",
    "\n",
    "Consider how and why the performance of the model degrades as a function of time using the rate of growth in the error.\n",
    "\n",
    "<!--\n",
    "BEGIN QUESTION\n",
    "name: q6e\n",
    "points: 0\n",
    "manual: True\n",
    "-->"
   ]
  },
  {
   "cell_type": "code",
   "execution_count": 35,
   "id": "9fd1992b",
   "metadata": {},
   "outputs": [
    {
     "data": {
      "text/html": [
       "<div>\n",
       "<style scoped>\n",
       "    .dataframe tbody tr th:only-of-type {\n",
       "        vertical-align: middle;\n",
       "    }\n",
       "\n",
       "    .dataframe tbody tr th {\n",
       "        vertical-align: top;\n",
       "    }\n",
       "\n",
       "    .dataframe thead th {\n",
       "        text-align: right;\n",
       "    }\n",
       "</style>\n",
       "<table border=\"1\" class=\"dataframe\">\n",
       "  <thead>\n",
       "    <tr style=\"text-align: right;\">\n",
       "      <th></th>\n",
       "      <th>0mask</th>\n",
       "      <th>1mask</th>\n",
       "      <th>2mask</th>\n",
       "      <th>3mask</th>\n",
       "      <th>4mask</th>\n",
       "      <th>5mask</th>\n",
       "      <th>6mask</th>\n",
       "      <th>COUNTYFP</th>\n",
       "      <th>0case</th>\n",
       "      <th>1case</th>\n",
       "      <th>2case</th>\n",
       "      <th>3case</th>\n",
       "      <th>4case</th>\n",
       "      <th>5case</th>\n",
       "      <th>6case</th>\n",
       "    </tr>\n",
       "  </thead>\n",
       "  <tbody>\n",
       "    <tr>\n",
       "      <th>0</th>\n",
       "      <td>0.618</td>\n",
       "      <td>0.524</td>\n",
       "      <td>0.485</td>\n",
       "      <td>0.464</td>\n",
       "      <td>0.513</td>\n",
       "      <td>0.5208</td>\n",
       "      <td>0.520800</td>\n",
       "      <td>1001</td>\n",
       "      <td>0.074329</td>\n",
       "      <td>0.081971</td>\n",
       "      <td>0.091689</td>\n",
       "      <td>0.111088</td>\n",
       "      <td>0.081531</td>\n",
       "      <td>0.088122</td>\n",
       "      <td>0.088122</td>\n",
       "    </tr>\n",
       "    <tr>\n",
       "      <th>1</th>\n",
       "      <td>0.430</td>\n",
       "      <td>0.387</td>\n",
       "      <td>0.506</td>\n",
       "      <td>0.378</td>\n",
       "      <td>0.495</td>\n",
       "      <td>0.5240</td>\n",
       "      <td>0.453333</td>\n",
       "      <td>1003</td>\n",
       "      <td>0.113735</td>\n",
       "      <td>0.083653</td>\n",
       "      <td>0.070293</td>\n",
       "      <td>0.069212</td>\n",
       "      <td>0.082999</td>\n",
       "      <td>0.080384</td>\n",
       "      <td>0.083379</td>\n",
       "    </tr>\n",
       "    <tr>\n",
       "      <th>2</th>\n",
       "      <td>0.500</td>\n",
       "      <td>0.460</td>\n",
       "      <td>0.438</td>\n",
       "      <td>0.330</td>\n",
       "      <td>0.570</td>\n",
       "      <td>0.5620</td>\n",
       "      <td>0.538000</td>\n",
       "      <td>1005</td>\n",
       "      <td>0.096933</td>\n",
       "      <td>0.077616</td>\n",
       "      <td>0.084654</td>\n",
       "      <td>0.072317</td>\n",
       "      <td>0.053317</td>\n",
       "      <td>0.069784</td>\n",
       "      <td>0.051959</td>\n",
       "    </tr>\n",
       "    <tr>\n",
       "      <th>3</th>\n",
       "      <td>0.618</td>\n",
       "      <td>0.639</td>\n",
       "      <td>0.628</td>\n",
       "      <td>0.618</td>\n",
       "      <td>0.545</td>\n",
       "      <td>0.5320</td>\n",
       "      <td>0.596667</td>\n",
       "      <td>1007</td>\n",
       "      <td>0.074329</td>\n",
       "      <td>0.115542</td>\n",
       "      <td>0.091352</td>\n",
       "      <td>0.107057</td>\n",
       "      <td>0.080554</td>\n",
       "      <td>0.096414</td>\n",
       "      <td>0.094208</td>\n",
       "    </tr>\n",
       "    <tr>\n",
       "      <th>4</th>\n",
       "      <td>0.379</td>\n",
       "      <td>0.501</td>\n",
       "      <td>0.628</td>\n",
       "      <td>0.479</td>\n",
       "      <td>0.495</td>\n",
       "      <td>0.4290</td>\n",
       "      <td>0.485167</td>\n",
       "      <td>1009</td>\n",
       "      <td>0.092244</td>\n",
       "      <td>0.109963</td>\n",
       "      <td>0.091352</td>\n",
       "      <td>0.102145</td>\n",
       "      <td>0.080506</td>\n",
       "      <td>0.091459</td>\n",
       "      <td>0.094611</td>\n",
       "    </tr>\n",
       "  </tbody>\n",
       "</table>\n",
       "</div>"
      ],
      "text/plain": [
       "   0mask  1mask  2mask  3mask  4mask   5mask     6mask  COUNTYFP     0case  \\\n",
       "0  0.618  0.524  0.485  0.464  0.513  0.5208  0.520800      1001  0.074329   \n",
       "1  0.430  0.387  0.506  0.378  0.495  0.5240  0.453333      1003  0.113735   \n",
       "2  0.500  0.460  0.438  0.330  0.570  0.5620  0.538000      1005  0.096933   \n",
       "3  0.618  0.639  0.628  0.618  0.545  0.5320  0.596667      1007  0.074329   \n",
       "4  0.379  0.501  0.628  0.479  0.495  0.4290  0.485167      1009  0.092244   \n",
       "\n",
       "      1case     2case     3case     4case     5case     6case  \n",
       "0  0.081971  0.091689  0.111088  0.081531  0.088122  0.088122  \n",
       "1  0.083653  0.070293  0.069212  0.082999  0.080384  0.083379  \n",
       "2  0.077616  0.084654  0.072317  0.053317  0.069784  0.051959  \n",
       "3  0.115542  0.091352  0.107057  0.080554  0.096414  0.094208  \n",
       "4  0.109963  0.091352  0.102145  0.080506  0.091459  0.094611  "
      ]
     },
     "execution_count": 35,
     "metadata": {},
     "output_type": "execute_result"
    }
   ],
   "source": [
    "#adding case data\n",
    "cases_per_capita_6e = county_data.copy()\n",
    "cases_per_capita_6e['1/12/21'] = cases_per_capita_6e.loc[:, '1/12/21'].divide(cases_per_capita_6e['POPESTIMATE2020'], axis=0)\n",
    "cases_per_capita_6e = cases_per_capita_6e[['1/12/21', 'COUNTYFP']]\n",
    "cases_per_capita_6e = cases_per_capita_6e[~(cases_per_capita_6e[\"COUNTYFP\"].isin([2261, 2158, 46102]))].reset_index()\n",
    "\n",
    "#Iterate over cases_per_capita_6 and add neighboring county case rates\n",
    "all_neighbors = []\n",
    "for index, row in cases_per_capita_6e.iterrows():\n",
    "    neighbors = []\n",
    "    for i in find_adjacent(row['COUNTYFP']):\n",
    "        if i in cases_per_capita_6e['COUNTYFP'].values:\n",
    "            neighbor = (cases_per_capita_6e[cases_per_capita_6e['COUNTYFP']==i])\n",
    "            case_rate = neighbor['1/12/21'].iloc[0]\n",
    "            neighbors.append(case_rate)\n",
    "    all_neighbors.append(neighbors)\n",
    "cases_per_capita_6e['neighbors_caserate'] = all_neighbors\n",
    "separated_caseneighbors_6e = pd.DataFrame([pd.Series(x) for x in cases_per_capita_6e.neighbors_caserate])\n",
    "\n",
    "#Drop neighbors over 7 and impute NaN values with the row mean\n",
    "separated_caseneighbors_6e = separated_caseneighbors_6e.drop(np.arange(7,len(separated_caseneighbors_6e.columns)), axis=1).apply(lambda row: row.fillna(row.mean()), axis=1)\n",
    "#Readd COUNTYFP values\n",
    "separated_caseneighbors_6e['COUNTYFP'] = cases_per_capita_6e['COUNTYFP']\n",
    "#Merge with mask data\n",
    "part6e_data = part6_data.merge(separated_caseneighbors_6e, on='COUNTYFP', how='inner', suffixes=('mask', 'case'))\n",
    "part6e_data.head()"
   ]
  },
  {
   "cell_type": "code",
   "execution_count": 36,
   "id": "3adb5481-c16b-47dd-b866-d637f6bc8605",
   "metadata": {},
   "outputs": [
    {
     "data": {
      "image/png": "[encoded data removed]",
      "text/plain": [
       "<Figure size 2000x1000 with 1 Axes>"
      ]
     },
     "metadata": {},
     "output_type": "display_data"
    }
   ],
   "source": [
    "#Create model 2\n",
    "model6e=LinearRegression()\n",
    "#train on new design matrix that also includes vaccination data\n",
    "X_model2_train_6e = vaccinations_day(\"2021-01-01\", X_jan_1)\n",
    "#Removing outliers for model 2\n",
    "X_model2_train_6e = X_model2_train_6e[~(X_model2_train_6e[\"COUNTYFP\"].isin([13053, 8025]))]\n",
    "\n",
    "Y_model2_train_6e = part6_countydata.copy()\n",
    "Y_model2_train_6e['1/1/21'] = Y_model2_train_6e.loc[:, '1/1/21'].divide(Y_model2_train_6e['POPESTIMATE2020'], axis=0)\n",
    "Y_model2_train_6e = Y_model2_train_6e[['1/1/21', 'COUNTYFP']]\n",
    "Y_model2_train_6e = Y_model2_train_6e[~(Y_model2_train_6e[\"COUNTYFP\"].isin([13053, 8025]))]\n",
    "Y_model2_train_6e = Y_model2_train_6e['1/1/21']\n",
    "Y_model2_train_6e\n",
    "\n",
    "model6e.fit(X_model2_train_6e, Y_model2_train_6e)\n",
    "\n",
    "baseline_RMSE = []\n",
    "model1_RMSE = []\n",
    "model2_RMSE = []\n",
    "baseline_R2 = []\n",
    "model1_R2 = []\n",
    "model2_R2 = []\n",
    "day_range = np.arange(0, 255, 50)\n",
    "\n",
    "baseline_pred = np.mean(cases_day(\"1/1/21\").iloc[:, 8:14], axis=1)\n",
    "#For each of the 255 days between jan 1, 2021 to september 12, 2021\n",
    "for day in day_range:\n",
    "    date = county_data.columns[377 + day]\n",
    "    X_for_day = cases_day(date)\n",
    "    day_actual = case_count_per_capita(date)\n",
    "    #Baseline Model\n",
    "    baseline_RMSE.append(rmse(day_actual, baseline_pred))\n",
    "    #Improved Model 1 Predictions\n",
    "    m1_predictions = model6d.predict(X_for_day)\n",
    "    model1_RMSE.append(rmse(day_actual, m1_predictions))\n",
    "    model1_R2.append(r2_score(day_actual, m1_predictions))\n",
    "    #Improved Model 2 Predictions\n",
    "    X_for_day_m2 = vaccinations_day(str(pd.to_datetime(date))[:10], X_for_day)\n",
    "    m2_predictions = model6e.predict(X_for_day_m2)\n",
    "    model2_RMSE.append(rmse(day_actual, m2_predictions))\n",
    "    model2_R2.append(r2_score(day_actual, m2_predictions))\n",
    "\n",
    "plt.figure(figsize=(20,10))\n",
    "plt.scatter(day_range, baseline_RMSE, label = \"Baseline\")\n",
    "plt.scatter(day_range, model1_RMSE, label = \"Model 1\")\n",
    "plt.scatter(day_range, model2_RMSE, label = \"Model 2\")\n",
    "plt.legend();"
   ]
  },
  {
   "cell_type": "code",
   "execution_count": 37,
   "id": "960d74a8-544a-4358-99f2-524163c04e19",
   "metadata": {},
   "outputs": [
    {
     "name": "stdout",
     "output_type": "stream",
     "text": [
      "Summary\n",
      "Baseline Test RMSE: 0.02878011117332395\n",
      "Baseline Test R^2: 0.44365947058401967\n",
      "Model Train RMSE: 0.02616179134344437\n",
      "Model Train R^2: 0.5021372504101781\n",
      "Improved Model Train RMSE: 0.025677239057559722\n",
      "Improved Model Train R^2: 0.5190834920945658\n",
      "Model Test RMSE: 0.02846628215832868\n",
      "Model Test R^2: 0.45572640601700676\n",
      "Improved Model Test RMSE: 0.02591072112096292\n",
      "Improved Model Test R^2: 0.48557062306933374\n",
      "\n",
      "Model RMSE for 2 days ahead: 0.019438078688468592 \n",
      " Model RMSE for 2 weeks ahead: 0.020398550339936244 \n",
      " Baseline RMSE for 2 days ahead: 0.06500161568388789 \n",
      " Baseline RMSE for 2 weeks ahead: 0.05791463965653096\n"
     ]
    }
   ],
   "source": [
    "print('Summary')\n",
    "print(f\"Baseline Test RMSE: {baseline_rmse}\")\n",
    "print(f\"Baseline Test R^2: {baseline_r2}\")\n",
    "print(f\"Model Train RMSE: {trainrmse_6a}\")\n",
    "print(f\"Model Train R^2: {trainr2_6a}\")\n",
    "print(f\"Improved Model Train RMSE: {trainrmse_6b}\")\n",
    "print(f\"Improved Model Train R^2: {trainr2_6b}\")\n",
    "print(f\"Model Test RMSE: {testrmse_6a}\")\n",
    "print(f\"Model Test R^2: {testr2_6a}\")\n",
    "print(f\"Improved Model Test RMSE: {testrmse_6b}\")\n",
    "print(f\"Improved Model Test R^2: {testr2_6b}\")\n",
    "print()\n",
    "print(f\"Model RMSE for 2 days ahead: {rmse_2day} \\n Model RMSE for 2 weeks ahead: {rmse_2week} \\n Baseline RMSE for 2 days ahead: {rmse_baseline_2day} \\n Baseline RMSE for 2 weeks ahead: {rmse_baseline_2week}\")"
   ]
  },
  {
   "cell_type": "markdown",
   "id": "526caa49",
   "metadata": {
    "deletable": false,
    "editable": false
   },
   "source": [
    "<!-- END QUESTION -->\n",
    "\n",
    "<!-- BEGIN QUESTION -->\n",
    "\n",
    "### Question 6f\n",
    "\n",
    "Consider a modification to the model $f(x) = x_{t+1}$ where instead $f(x) = [x_{t+1}, x_{t+2}, ..., x_{t+m}]$ for some $m > 1$. In other words, using the features $x$ that contain past and present quantities, our model *explicitly* predicts values for $m$ days in the future rather than simply the next day (i.e. $m = 1$). \n",
    "\n",
    "Train the baseline and improved model using $m = 5$ and $m = 10$. Evaluate and visualize the predictive accuracy of both models.\n",
    "\n",
    "<!--\n",
    "BEGIN QUESTION\n",
    "name: q6f\n",
    "points: 0\n",
    "manual: True\n",
    "-->"
   ]
  },
  {
   "cell_type": "markdown",
   "id": "cb8bc5f0",
   "metadata": {
    "deletable": false,
    "editable": false
   },
   "source": [
    "---\n",
    "\n",
    "To double-check your work, the cell below will rerun all of the autograder tests."
   ]
  },
  {
   "cell_type": "code",
   "execution_count": 38,
   "id": "dd82aee6",
   "metadata": {
    "deletable": false,
    "editable": false
   },
   "outputs": [
    {
     "data": {
      "text/plain": [
       "q1a results: All test cases passed!\n",
       "\n",
       "q1d results: All test cases passed!\n",
       "\n",
       "q1e results: All test cases passed!\n",
       "\n",
       "q5b results: All test cases passed!\n",
       "\n",
       "q5d results: All test cases passed!\n",
       "\n",
       "q5f results: All test cases passed!\n",
       "\n",
       "q5g results: All test cases passed!\n",
       "\n",
       "q5i results: All test cases passed!"
      ]
     },
     "execution_count": 38,
     "metadata": {},
     "output_type": "execute_result"
    }
   ],
   "source": [
    "grader.check_all()"
   ]
  },
  {
   "cell_type": "markdown",
   "id": "7ecfb50d",
   "metadata": {
    "deletable": false,
    "editable": false
   },
   "source": [
    "## Submission\n",
    "\n",
    "Make sure you have run all cells in your notebook in order before running the cell below, so that all images/graphs appear in the output. The cell below will generate a zip file for you to submit. **Please save before exporting!**"
   ]
  },
  {
   "cell_type": "code",
   "execution_count": 39,
   "id": "febbeabf",
   "metadata": {
    "deletable": false,
    "editable": false
   },
   "outputs": [
    {
     "name": "stdout",
     "output_type": "stream",
     "text": [
      "There was an error generating your LaTeX\n",
      "Showing concise error message\n",
      "============================================================\n",
      "! \n",
      "! For immediate help type H <return>.\n",
      "!...............................................  \n",
      "                                                  \n",
      "l.316 \\begin{document}\n",
      "                      \n",
      "? \n",
      "! Emergency stop.\n",
      "!...............................................  \n",
      "                                                  \n",
      "l.316 \\begin{document}\n",
      "                      \n",
      "No pages of output.\n",
      "Transcript written on notebook.log.\n",
      "\n",
      "============================================================\n"
     ]
    },
    {
     "data": {
      "text/html": [
       "\n",
       "            <p>Your submission has been exported. Click <a href=\"covid_part2_2022_09_06T17_52_48_021206.zip\" download=\"covid_part2_2022_09_06T17_52_48_021206.zip\" target=\"_blank\">here</a>\n",
       "            to download the zip file.</p>\n",
       "            "
      ],
      "text/plain": [
       "<IPython.core.display.HTML object>"
      ]
     },
     "metadata": {},
     "output_type": "display_data"
    }
   ],
   "source": [
    "# Save your notebook first, then run this cell to export your submission.\n",
    "grader.export()"
   ]
  },
  {
   "cell_type": "markdown",
   "id": "fd5501bd",
   "metadata": {},
   "source": [
    " "
   ]
  }
 ],
 "metadata": {
  "kernelspec": {
   "display_name": "Python 3 (ipykernel)",
   "language": "python",
   "name": "python3"
  },
  "language_info": {
   "codemirror_mode": {
    "name": "ipython",
    "version": 3
   },
   "file_extension": ".py",
   "mimetype": "text/x-python",
   "name": "python",
   "nbconvert_exporter": "python",
   "pygments_lexer": "ipython3",
   "version": "3.9.0"
  }
 },
 "nbformat": 4,
 "nbformat_minor": 5
}
